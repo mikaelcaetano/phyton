{
  "cells": [
    {
      "cell_type": "markdown",
      "metadata": {
        "id": "view-in-github",
        "colab_type": "text"
      },
      "source": [
        "<a href=\"https://colab.research.google.com/github/mikaelcaetano/phyton/blob/main/10_C%C3%B3pia_de_String_Indice_Negativo_e_Peda%C3%A7o_de_Texto.ipynb\" target=\"_parent\"><img src=\"https://colab.research.google.com/assets/colab-badge.svg\" alt=\"Open In Colab\"/></a>"
      ]
    },
    {
      "cell_type": "raw",
      "metadata": {
        "id": "3y0J_kXSt8Id"
      },
      "source": [
        "Texto: lira@gmail.com\n",
        "\n",
        "-14 -13 -12 -11 -10 -9 -8 -7 -6 -5 -4 -3 -2 -1\n",
        "  l   i   r   a   @  g  m  a  i  l  .  c  o  m\n",
        "  0   1   2   3   4  5  6  7  8  9 10 11 12 13\n",
        "  \n",
        "Para pegar um texto de trás para frente: texto[índice] -> onde índice é negativo\n",
        "Para pegar o pedaço de um texto use : (dois pontos). texto[:indice] ou texto[indice:] ou ainda texto[indice:indice]"
      ]
    },
    {
      "cell_type": "code",
      "execution_count": null,
      "metadata": {
        "id": "be9nyDK8t8Il"
      },
      "outputs": [],
      "source": [
        "email = 'lira@gmail.com'\n",
        "nome = 'João Paulo Lira'"
      ]
    },
    {
      "cell_type": "markdown",
      "metadata": {
        "id": "b3-iYurEt8Ip"
      },
      "source": [
        "Exercícios para Fixação:\n",
        "Basta completar os prints de forma correta"
      ]
    },
    {
      "cell_type": "code",
      "execution_count": null,
      "metadata": {
        "id": "nKl64gwjt8Is",
        "outputId": "bf9018ed-c9f6-4adf-891d-dd021f4a960f",
        "colab": {
          "base_uri": "https://localhost:8080/"
        }
      },
      "outputs": [
        {
          "output_type": "stream",
          "name": "stdout",
          "text": [
            "Tamanho do e-mail 14 caracteres\n",
            "Primeiro Caractere l\n",
            "Último Caractere m\n",
            "Servidor do email gmail\n"
          ]
        }
      ],
      "source": [
        "print('Tamanho do e-mail ' + str(len(email)) + ' caracteres')\n",
        "print('Primeiro Caractere ' + email[0])\n",
        "print('Último Caractere ' + email[-1])\n",
        "print('Servidor do email ' + email[5:10])"
      ]
    }
  ],
  "metadata": {
    "kernelspec": {
      "display_name": "Python 3",
      "language": "python",
      "name": "python3"
    },
    "language_info": {
      "codemirror_mode": {
        "name": "ipython",
        "version": 3
      },
      "file_extension": ".py",
      "mimetype": "text/x-python",
      "name": "python",
      "nbconvert_exporter": "python",
      "pygments_lexer": "ipython3",
      "version": "3.8.3"
    },
    "colab": {
      "name": "10 - Cópia de String Indice Negativo e Pedaço de Texto.ipynb",
      "provenance": [],
      "include_colab_link": true
    }
  },
  "nbformat": 4,
  "nbformat_minor": 0
}