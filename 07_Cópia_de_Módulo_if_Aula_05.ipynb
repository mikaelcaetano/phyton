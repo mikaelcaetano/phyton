{
  "cells": [
    {
      "cell_type": "markdown",
      "metadata": {
        "id": "view-in-github",
        "colab_type": "text"
      },
      "source": [
        "<a href=\"https://colab.research.google.com/github/mikaelcaetano/phyton/blob/main/07_C%C3%B3pia_de_M%C3%B3dulo_if_Aula_05.ipynb\" target=\"_parent\"><img src=\"https://colab.research.google.com/assets/colab-badge.svg\" alt=\"Open In Colab\"/></a>"
      ]
    },
    {
      "cell_type": "markdown",
      "metadata": {
        "id": "TPUzF1ifC9uX"
      },
      "source": [
        "# Casos com várias condições/comparações\n",
        "\n",
        "### Estrutura:\n",
        "\n",
        "Quando temos várias comparações, ao invés de criar if dentro de if podemos usar os operadores \"and\" e \"or\" para tratar essas condições.\n",
        "\n",
        "Funciona assim:"
      ]
    },
    {
      "cell_type": "raw",
      "metadata": {
        "id": "S9cLBOg8C9ue"
      },
      "source": [
        "if condicao_1 and condicao_2:\n",
        "    vai ser executado se as 2 condições forem verdadeiras ao mesmo tempo\n",
        "\n",
        "outro caso:\n",
        "\n",
        "if condicao_1 or condicao_2:\n",
        "    vai ser executado se pelo menos uma das condições forem verdadeiras"
      ]
    },
    {
      "cell_type": "markdown",
      "metadata": {
        "id": "YlR62Zb7C9uf"
      },
      "source": [
        "### Exemplo\n",
        "\n",
        "Vamos voltar ao exemplo de cálculo de meta de vendas dos funcionários. Muitas empresas atribuem bonificação do salário dos funcionários de acordo com o resultado do funcionário e também com o resultado da empresa como um todo.\n",
        "\n",
        "Nesse caso, a regra funciona da seguinte forma:\n",
        "- Se o funcionário vendeu mais do que a meta de vendas e a loja bateu a meta de vendas da loja, o funcionário ganha 3% do que ele vendeu em forma de bônus.\n",
        "- Caso o funcionário tenha batido a meta de vendas individual dele, mas a loja não tenha batido a meta de vendas da loja como um todo, o funcionário não ganha bônus."
      ]
    },
    {
      "cell_type": "code",
      "execution_count": null,
      "metadata": {
        "id": "t2RNtjmYC9ug"
      },
      "outputs": [],
      "source": [
        ""
      ]
    },
    {
      "cell_type": "markdown",
      "metadata": {
        "id": "srNvw2OfC9uh"
      },
      "source": [
        "### Outro exemplo\n",
        "\n",
        "Agora vamos levar essa análise mais a fundo.\n",
        "\n",
        "Nessa empresa, existe um outro caso também que garante que o funcionário ganhe um bônus, independente das vendas que ele fez naquele mês.\n",
        "\n",
        "Todo mês os diretores da empresa fazem uma avaliação qualitativa de todos os funcionários. Nessa avaliação os diretores dão uma nota de 0 a 10 para cada funcionário. Se a nota do funcionário for 9 ou 10, ele também ganha o bônus de 3% do valor de vendas. (os bônus não são cumulativos)"
      ]
    },
    {
      "cell_type": "code",
      "execution_count": null,
      "metadata": {
        "id": "RAxA0xsbC9ui"
      },
      "outputs": [],
      "source": [
        ""
      ]
    }
  ],
  "metadata": {
    "kernelspec": {
      "display_name": "Python 3",
      "language": "python",
      "name": "python3"
    },
    "language_info": {
      "codemirror_mode": {
        "name": "ipython",
        "version": 3
      },
      "file_extension": ".py",
      "mimetype": "text/x-python",
      "name": "python",
      "nbconvert_exporter": "python",
      "pygments_lexer": "ipython3",
      "version": "3.8.3"
    },
    "colab": {
      "name": "07 - Cópia de Módulo if - Aula 05.ipynb",
      "provenance": [],
      "include_colab_link": true
    }
  },
  "nbformat": 4,
  "nbformat_minor": 0
}