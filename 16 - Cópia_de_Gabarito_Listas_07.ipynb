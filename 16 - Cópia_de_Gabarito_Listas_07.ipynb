{
  "cells": [
    {
      "cell_type": "markdown",
      "metadata": {
        "id": "view-in-github",
        "colab_type": "text"
      },
      "source": [
        "<a href=\"https://colab.research.google.com/github/mikaelcaetano/phyton/blob/main/16%20-%20C%C3%B3pia_de_Gabarito_Listas_07.ipynb\" target=\"_parent\"><img src=\"https://colab.research.google.com/assets/colab-badge.svg\" alt=\"Open In Colab\"/></a>"
      ]
    },
    {
      "cell_type": "markdown",
      "metadata": {
        "id": "zwPLzwxmSaBC"
      },
      "source": [
        "# Print de Listas\n",
        "\n",
        "2 Opções:\n",
        "- print \"normal\"\n",
        "- método join -> texto.join(lista)"
      ]
    },
    {
      "cell_type": "code",
      "execution_count": null,
      "metadata": {
        "id": "162_g8mKSaBP",
        "outputId": "54a92935-78ef-4f89-bdce-7e2e10deb724"
      },
      "outputs": [
        {
          "name": "stdout",
          "output_type": "stream",
          "text": [
            "['apple tv', 'mac', 'iphone x', 'iphone 11', 'IPad', 'apple watch', 'mac book', 'airpods']\n",
            "apple tv\n",
            "mac\n",
            "iphone x\n",
            "iphone 11\n",
            "IPad\n",
            "apple watch\n",
            "mac book\n",
            "airpods\n"
          ]
        }
      ],
      "source": [
        "produtos = ['apple tv', 'mac', 'iphone x', 'iphone 11', 'IPad', 'apple watch', 'mac book', 'airpods']\n",
        "print(produtos)\n",
        "\n",
        "print('\\n'.join(produtos))"
      ]
    },
    {
      "cell_type": "markdown",
      "metadata": {
        "id": "CzNozfq9SaBU"
      },
      "source": [
        "Lembrando do método split de strings:\n",
        "\n",
        "lista = texto.split(separador)"
      ]
    },
    {
      "cell_type": "code",
      "execution_count": null,
      "metadata": {
        "id": "WTqxVV2dSaBW",
        "outputId": "ab755e3e-db20-4128-9d6f-b4e54da8a457"
      },
      "outputs": [
        {
          "name": "stdout",
          "output_type": "stream",
          "text": [
            "['apple tv', 'mac', 'iphone x', 'iphone 11', 'IPad', 'apple watch', 'mac book', 'airpods']\n"
          ]
        }
      ],
      "source": [
        "produtos = 'apple tv, mac, iphone x, iphone 11, IPad, apple watch, mac book, airpods'\n",
        "lista = produtos.split(', ')\n",
        "\n",
        "print(lista)"
      ]
    }
  ],
  "metadata": {
    "kernelspec": {
      "display_name": "Python 3",
      "language": "python",
      "name": "python3"
    },
    "language_info": {
      "codemirror_mode": {
        "name": "ipython",
        "version": 3
      },
      "file_extension": ".py",
      "mimetype": "text/x-python",
      "name": "python",
      "nbconvert_exporter": "python",
      "pygments_lexer": "ipython3",
      "version": "3.8.3"
    },
    "colab": {
      "name": "Cópia de Gabarito - Listas 07.ipynb",
      "provenance": [],
      "include_colab_link": true
    }
  },
  "nbformat": 4,
  "nbformat_minor": 0
}