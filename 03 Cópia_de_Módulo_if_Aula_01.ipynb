{
  "cells": [
    {
      "cell_type": "markdown",
      "metadata": {
        "id": "view-in-github",
        "colab_type": "text"
      },
      "source": [
        "<a href=\"https://colab.research.google.com/github/mikaelcaetano/phyton/blob/main/03%20C%C3%B3pia_de_M%C3%B3dulo_if_Aula_01.ipynb\" target=\"_parent\"><img src=\"https://colab.research.google.com/assets/colab-badge.svg\" alt=\"Open In Colab\"/></a>"
      ]
    },
    {
      "cell_type": "markdown",
      "metadata": {
        "id": "6naJubwE9n4P"
      },
      "source": [
        "# Condições no Python -> If\n",
        "\n",
        "## Estrutura:\n",
        "\n",
        "### Uso mais simples:"
      ]
    },
    {
      "cell_type": "raw",
      "metadata": {
        "id": "tMUZSvw09n4Z"
      },
      "source": [
        "if condição:\n",
        "    o que fazer caso a condição seja verdadeira"
      ]
    },
    {
      "cell_type": "markdown",
      "metadata": {
        "id": "OJDfertt9n4a"
      },
      "source": [
        "### Exemplo Real (informações 100% hipotéticas e inventadas):\n",
        "\n",
        "Digamos que você trabalha na Amazon (que tem centenas de milhares, se não milhões de produtos) e está analisando o resultado de vendas dos produtos.\n",
        "\n",
        "Você precisa criar um programa que vai analisar o resultado de vendas dos produtos da Amazon em um mês. Para simplificar vamos pensar em um único produto: um Iphone.\n",
        "\n",
        "Meta de Vendas do Iphone = 50.000 unidades<br>\n",
        "Quantidade vendida no Mês = 65.300 unidades\n",
        "\n",
        "O seu programa deve avisar (usaremos o print por enquanto) caso o produto tenha batido a meta do mês. Então devemos fazer:<br>\n",
        "- Caso o produto tenha batido a meta, devemos exibir a mensagem: \"Batemos a meta de vendas de Iphone, vendemos {} unidades\" \n",
        "- Se ele não bateu a meta do mês, o seu programa não deve fazer nada"
      ]
    },
    {
      "cell_type": "code",
      "execution_count": null,
      "metadata": {
        "id": "8nl6H7oH9n4c"
      },
      "outputs": [],
      "source": [
        ""
      ]
    },
    {
      "cell_type": "markdown",
      "metadata": {
        "id": "59Z5WokN9n4e"
      },
      "source": [
        "### Tratando a condição falsa:\n",
        "Quando usamos o if, nem sempre queremos apenas analisar o caso verdadeiro, em boa parte das vezes queremos fazer alguma coisa caso a condição seja verdadeira e fazer outra coisa caso a condição seja falsa.\n",
        "\n",
        "Nesse caso usaremos:"
      ]
    },
    {
      "cell_type": "raw",
      "metadata": {
        "id": "O0UxGyJu9n4g"
      },
      "source": [
        "if condição:\n",
        "    o que eu quero fazer caso a condição seja verdadeira\n",
        "else:\n",
        "    o que eu quero fazer caso a condição seja falsa"
      ]
    },
    {
      "cell_type": "markdown",
      "metadata": {
        "id": "opd5ID2W9n4h"
      },
      "source": [
        "Voltando ao nosso Exemplo Real da Amazon e do Iphone, agora nossa programa deve avisar nos 2 casos:\n",
        "- Caso o produto tenha batido a meta, devemos exibir a mensagem: \"Batemos a meta de vendas de Iphone, vendemos {} unidades\" \n",
        "- Se ele não bateu a meta do mês, devemos exibir a mensagem: \"Infelizmente não batemos a meta, vendemos {} unidades. A meta era de {} unidades\""
      ]
    },
    {
      "cell_type": "code",
      "execution_count": null,
      "metadata": {
        "id": "YO_EnEY39n4k",
        "outputId": "5d2aacc4-50bc-42d0-d7d9-aafdaf5c8c5b",
        "colab": {
          "base_uri": "https://localhost:8080/"
        }
      },
      "outputs": [
        {
          "output_type": "stream",
          "name": "stdout",
          "text": [
            "batemos a meta\n"
          ]
        }
      ],
      "source": [
        "meta = 50000\n",
        "qtd_vd = 60000\n",
        "\n",
        "if qtd_vd > meta:\n",
        "    print(\"batemos a meta\")\n",
        "else:\n",
        "    print(\"não batemos a meta\")"
      ]
    }
  ],
  "metadata": {
    "kernelspec": {
      "display_name": "Python 3",
      "language": "python",
      "name": "python3"
    },
    "language_info": {
      "codemirror_mode": {
        "name": "ipython",
        "version": 3
      },
      "file_extension": ".py",
      "mimetype": "text/x-python",
      "name": "python",
      "nbconvert_exporter": "python",
      "pygments_lexer": "ipython3",
      "version": "3.8.3"
    },
    "colab": {
      "name": "Cópia de Módulo if - Aula 01.ipynb",
      "provenance": [],
      "include_colab_link": true
    }
  },
  "nbformat": 4,
  "nbformat_minor": 0
}