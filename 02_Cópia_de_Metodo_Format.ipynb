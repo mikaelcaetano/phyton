{
  "cells": [
    {
      "cell_type": "markdown",
      "metadata": {
        "id": "view-in-github",
        "colab_type": "text"
      },
      "source": [
        "<a href=\"https://colab.research.google.com/github/mikaelcaetano/phyton/blob/main/C%C3%B3pia_de_Metodo_Format.ipynb\" target=\"_parent\"><img src=\"https://colab.research.google.com/assets/colab-badge.svg\" alt=\"Open In Colab\"/></a>"
      ]
    },
    {
      "cell_type": "markdown",
      "metadata": {
        "id": "qtkaCbWw4XPS"
      },
      "source": [
        "### Forma que fizemos na última aula (concatenando textos)"
      ]
    },
    {
      "cell_type": "code",
      "execution_count": null,
      "metadata": {
        "id": "zOht6UhB4XPf",
        "outputId": "46db3b69-4b2a-470b-8dac-9ea32d3bf52c",
        "colab": {
          "base_uri": "https://localhost:8080/"
        }
      },
      "outputs": [
        {
          "output_type": "stream",
          "name": "stdout",
          "text": [
            "O faturamento da loja foi 2000.O custo da loja foi 500.Assim, o lucro da loja foi de 1500\n"
          ]
        }
      ],
      "source": [
        "faturamento = 2000\n",
        "custo = 500\n",
        "lucro = faturamento - custo\n",
        "\n",
        "print('O faturamento da loja foi ' + str(faturamento) + '.O custo da loja foi ' + str(custo) + '.Assim, o lucro da loja foi de ' + str(lucro))"
      ]
    },
    {
      "cell_type": "markdown",
      "metadata": {
        "id": "5nZw6dy_4XPi"
      },
      "source": [
        "### Método format"
      ]
    },
    {
      "cell_type": "code",
      "execution_count": null,
      "metadata": {
        "id": "KfL3HbNp4XPk",
        "outputId": "a9b123c4-385a-4262-8c79-2198024476e4",
        "colab": {
          "base_uri": "https://localhost:8080/"
        }
      },
      "outputs": [
        {
          "output_type": "stream",
          "name": "stdout",
          "text": [
            "o faturamento da loja foi de 2000, o custo da loja foi de 500. Assim o lucro da loja foi de 1500\n"
          ]
        }
      ],
      "source": [
        "print(\"o faturamento da loja foi de {}, o custo da loja foi de {}. Assim o lucro da loja foi de {}\".format(faturamento, custo, lucro))"
      ]
    }
  ],
  "metadata": {
    "kernelspec": {
      "display_name": "Python 3",
      "language": "python",
      "name": "python3"
    },
    "language_info": {
      "codemirror_mode": {
        "name": "ipython",
        "version": 3
      },
      "file_extension": ".py",
      "mimetype": "text/x-python",
      "name": "python",
      "nbconvert_exporter": "python",
      "pygments_lexer": "ipython3",
      "version": "3.8.3"
    },
    "colab": {
      "name": "Cópia de Metodo Format.ipynb",
      "provenance": [],
      "include_colab_link": true
    }
  },
  "nbformat": 4,
  "nbformat_minor": 0
}
