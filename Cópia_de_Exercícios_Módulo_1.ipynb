{
  "cells": [
    {
      "cell_type": "markdown",
      "metadata": {
        "id": "view-in-github",
        "colab_type": "text"
      },
      "source": [
        "<a href=\"https://colab.research.google.com/github/mikaelcaetano/phyton/blob/main/C%C3%B3pia_de_Exerc%C3%ADcios_M%C3%B3dulo_1.ipynb\" target=\"_parent\"><img src=\"https://colab.research.google.com/assets/colab-badge.svg\" alt=\"Open In Colab\"/></a>"
      ]
    },
    {
      "cell_type": "markdown",
      "metadata": {
        "id": "bfdBQcaAJGap"
      },
      "source": [
        "# Exercícios do Módulo 1 - Operações, Variáveis e Input"
      ]
    },
    {
      "cell_type": "markdown",
      "metadata": {
        "id": "95RpvTU1JGaw"
      },
      "source": [
        "### Parte 1 - Operações e Variáveis\n",
        "Crie um programa que imprima (print) os principais indicadores da loja Hashtag&Drink no último ano.\n",
        "Obs: faça tudo usando variáveis.\n",
        "\n",
        "Valores do último ano:\n",
        "\n",
        "Quantidade de Vendas de Coca = 150<br>\n",
        "Quantidade de Vendas de Pepsi = 130<br>\n",
        "Preço Unitário da Coca = 1,50 <br>\n",
        "Preço Unitário da Pepsi = 1,50<br>\n",
        "Custo da Loja: 2.500,00\n",
        "\n",
        "Use o bloco abaixo para criar todas as variáveis que precisar."
      ]
    },
    {
      "cell_type": "code",
      "execution_count": null,
      "metadata": {
        "id": "kZ99De1VJGay"
      },
      "outputs": [],
      "source": [
        "qtd_vendas_coca = 150\n",
        "qtd_vendas_pepsi = 130\n",
        "preço_uni = 1.50\n",
        "preço_uni = 1.50\n",
        "custo_da_loja = 2500"
      ]
    },
    {
      "cell_type": "markdown",
      "metadata": {
        "id": "JOyNXxZsJGaz"
      },
      "source": [
        "1. Qual foi o faturamento de Pepsi da Loja?"
      ]
    },
    {
      "cell_type": "code",
      "execution_count": null,
      "metadata": {
        "id": "KcBi6-pSJGa0",
        "outputId": "606d745c-8415-48d4-f188-6f5843489f13",
        "colab": {
          "base_uri": "https://localhost:8080/"
        }
      },
      "outputs": [
        {
          "output_type": "execute_result",
          "data": {
            "text/plain": [
              "195.0"
            ]
          },
          "metadata": {},
          "execution_count": 2
        }
      ],
      "source": [
        "preço_pepsi = preço_uni * qtd_vendas_pepsi\n",
        "preço_pepsi"
      ]
    },
    {
      "cell_type": "markdown",
      "metadata": {
        "id": "3o0hTwz9JGa0"
      },
      "source": [
        "2. Qual foi o faturamento de Coca da Loja?"
      ]
    },
    {
      "cell_type": "code",
      "execution_count": null,
      "metadata": {
        "id": "bklaNhfdJGa1",
        "outputId": "14ec17ad-a8bc-4ed8-a034-d6e186050f22",
        "colab": {
          "base_uri": "https://localhost:8080/"
        }
      },
      "outputs": [
        {
          "output_type": "execute_result",
          "data": {
            "text/plain": [
              "225.0"
            ]
          },
          "metadata": {},
          "execution_count": 3
        }
      ],
      "source": [
        "preço_coca = preço_uni * qtd_vendas_coca\n",
        "preço_coca"
      ]
    },
    {
      "cell_type": "markdown",
      "metadata": {
        "id": "pVm_dxCYJGa2"
      },
      "source": [
        "3. Qual foi o Lucro da loja?"
      ]
    },
    {
      "cell_type": "code",
      "execution_count": null,
      "metadata": {
        "id": "YiwT8n_mJGa4",
        "outputId": "acb5119a-472e-4402-bce9-bfc7bb5ebf71",
        "colab": {
          "base_uri": "https://localhost:8080/"
        }
      },
      "outputs": [
        {
          "output_type": "execute_result",
          "data": {
            "text/plain": [
              "420.0"
            ]
          },
          "metadata": {},
          "execution_count": 4
        }
      ],
      "source": [
        "faturamento = preço_coca + preço_pepsi\n",
        "faturamento\n"
      ]
    },
    {
      "cell_type": "code",
      "source": [
        "lucro = faturamento - custo_da_loja\n",
        "lucro"
      ],
      "metadata": {
        "id": "GmUOxs5GTCic",
        "outputId": "2f17b1b4-fb22-45d3-df3a-2c7d4f3cc6ca",
        "colab": {
          "base_uri": "https://localhost:8080/"
        }
      },
      "execution_count": null,
      "outputs": [
        {
          "output_type": "execute_result",
          "data": {
            "text/plain": [
              "-2080.0"
            ]
          },
          "metadata": {},
          "execution_count": 5
        }
      ]
    },
    {
      "cell_type": "markdown",
      "metadata": {
        "id": "78gBTRGuJGa5"
      },
      "source": [
        "4. Qual foi a Margem da Loja? (Lembre-se, margem = Lucro / Faturamento). Não precisa formatar em percentual"
      ]
    },
    {
      "cell_type": "code",
      "execution_count": null,
      "metadata": {
        "id": "5zDCNFI6JGa6",
        "outputId": "850a39e6-d5b3-403e-a319-ddf67cd6beaa",
        "colab": {
          "base_uri": "https://localhost:8080/"
        }
      },
      "outputs": [
        {
          "output_type": "execute_result",
          "data": {
            "text/plain": [
              "-4.9523809523809526"
            ]
          },
          "metadata": {},
          "execution_count": 7
        }
      ],
      "source": [
        "margem = lucro / faturamento\n",
        "margem"
      ]
    },
    {
      "cell_type": "markdown",
      "metadata": {
        "id": "xTauBMljJGa6"
      },
      "source": [
        "### Parte 2 - Inputs e Strings"
      ]
    },
    {
      "cell_type": "markdown",
      "metadata": {
        "id": "kyMjmVrWJGa7"
      },
      "source": [
        "A maioria das empresas trabalham com um Código para cada produto que possuem. A Hashtag&Drink, por exemplo, tem mais de 1.000 produtos e possui um código para cada produto.\n",
        "Ex: \n",
        "Coca -> Código: BEB1300543<br>\n",
        "Pepsi -> Código: BEB1300545<br>\n",
        "Vinho Primitivo Lucarelli -> Código: BAC1546001<br>\n",
        "Vodka Smirnoff -> Código: BAC17675002<br>\n",
        "\n",
        "Repare que todas as bebidas não alcóolicas tem o início do Código \"BEB\" e todas as bebidas alcóolicas tem o início do código \"BAC\".\n",
        "\n",
        "Crie um programa de consulta de bebida que, dado um código qualquer, identifique se a bebida é alcóolica. O programa deve responder True para bebidas alcóolicas e False para bebidas não alcóolicas. Para inserir um código, use um input.\n",
        "\n",
        "Dica: Lembre-se do comando in para strings e sempre insira os códigos com letra maiúscula para facilitar."
      ]
    },
    {
      "cell_type": "code",
      "execution_count": null,
      "metadata": {
        "id": "i3WhVolEJGa8",
        "outputId": "dfb92df1-06b6-4622-bae6-1271026ee2e9",
        "colab": {
          "base_uri": "https://localhost:8080/"
        }
      },
      "outputs": [
        {
          "name": "stdout",
          "output_type": "stream",
          "text": [
            "digiite o nome da bebida?BEB\n"
          ]
        },
        {
          "output_type": "execute_result",
          "data": {
            "text/plain": [
              "False"
            ]
          },
          "metadata": {},
          "execution_count": 14
        }
      ],
      "source": [
        "codigo = input(\"digiite o nome da bebida?\")\n",
        "\"BEB\" in codigo\n",
        "\"BAB\" in codigo"
      ]
    }
  ],
  "metadata": {
    "kernelspec": {
      "display_name": "Python 3",
      "language": "python",
      "name": "python3"
    },
    "language_info": {
      "codemirror_mode": {
        "name": "ipython",
        "version": 3
      },
      "file_extension": ".py",
      "mimetype": "text/x-python",
      "name": "python",
      "nbconvert_exporter": "python",
      "pygments_lexer": "ipython3",
      "version": "3.8.3"
    },
    "colab": {
      "name": "Cópia de Exercícios Módulo 1.ipynb",
      "provenance": [],
      "include_colab_link": true
    }
  },
  "nbformat": 4,
  "nbformat_minor": 0
}