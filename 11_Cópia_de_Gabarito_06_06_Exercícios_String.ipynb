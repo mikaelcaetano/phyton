{
  "cells": [
    {
      "cell_type": "markdown",
      "metadata": {
        "id": "view-in-github",
        "colab_type": "text"
      },
      "source": [
        "<a href=\"https://colab.research.google.com/github/mikaelcaetano/phyton/blob/main/11_C%C3%B3pia_de_Gabarito_06_06_Exerc%C3%ADcios_String.ipynb\" target=\"_parent\"><img src=\"https://colab.research.google.com/assets/colab-badge.svg\" alt=\"Open In Colab\"/></a>"
      ]
    },
    {
      "cell_type": "markdown",
      "metadata": {
        "id": "7WbVzCll9Bsw"
      },
      "source": [
        "# Exercícios\n",
        "\n",
        "## 1. Cadastro de CPF\n",
        "\n",
        "Crie um programa para cadastro de CPF de clientes que recebe o CPF em um input box apenas com números.\n",
        "\n",
        "Ex: 'Insira seu CPF (digite apenas números)'\n",
        "\n",
        "Caso o usuário digite algo diferente de números ou digite menos de 11 caracteres (tamanho do CPF brasileiro), o programa deve exibir uma mensagem de \"Digite seu CPF corretamente e digite apenas números\""
      ]
    },
    {
      "cell_type": "code",
      "execution_count": null,
      "metadata": {
        "id": "QPQg4h_S9Bs4",
        "outputId": "d04405ac-b8f5-448f-dd0e-3e4627842581"
      },
      "outputs": [
        {
          "name": "stdout",
          "output_type": "stream",
          "text": [
            "Insira seu CPF (digite apenas números)000.000.000-00\n",
            "Digite seu CPF corretamente e digite apenas números\n"
          ]
        }
      ],
      "source": [
        "cpf = input('Insira seu CPF (digite apenas números)')\n",
        "\n",
        "if len(cpf) == 11 and cpf.isnumeric():\n",
        "    print(cpf)\n",
        "else:\n",
        "    print('Digite seu CPF corretamente e digite apenas números')"
      ]
    },
    {
      "cell_type": "markdown",
      "metadata": {
        "id": "62ZubFph9BtB"
      },
      "source": [
        "## 2. Melhorando nosso Cadastro de CPF\n",
        "\n",
        "Agora, além das validações anteriores, vamos criar um input que permita que o usuário insira pontos, traços e inclusive espaços vazios.\n",
        "\n",
        "Nosso programa deve \"tratar\" o que o usuário inserir para padronizar o CPF dele em apenas números.\n",
        "\n",
        "A verificação de tamanho do CPF com 11 caracteres continua válida, mas ela só deve ser feita depois de retirar todos os pontos, traços e espaços do CPF que o cliente inserir e, uma vez retirados pontos, traços e espaços, devem sobrar apenas números no CPF. Qualquer outro caractere deve ser considerado inválido.\n",
        "\n",
        "No final, nosso programa deve exibir uma mensagem para o usuário, caso ele tenha inserido o CPF inválido ou então apenas deve printar o CPF correto já só com número."
      ]
    },
    {
      "cell_type": "code",
      "execution_count": null,
      "metadata": {
        "id": "dXyMMPOk9BtH",
        "outputId": "32d28130-7902-4b56-83ea-ebf9dc405c43"
      },
      "outputs": [
        {
          "name": "stdout",
          "output_type": "stream",
          "text": [
            "Insira seu CPF000*000*000/00\n",
            "Digite seu CPF corretamente e digite apenas números\n"
          ]
        }
      ],
      "source": [
        "cpf = input('Insira seu CPF')\n",
        "\n",
        "#tratar o cpf\n",
        "\n",
        "#tirar espaços no inicio e no final\n",
        "cpf = cpf.strip()\n",
        "#tirar os . (pontos)\n",
        "cpf = cpf.replace('.', '')\n",
        "#tirar os traços (-)\n",
        "cpf = cpf.replace('-', '')\n",
        "\n",
        "if len(cpf) == 11 and cpf.isnumeric():\n",
        "    print(cpf)\n",
        "else:\n",
        "    print('Digite seu CPF corretamente e digite apenas números')"
      ]
    },
    {
      "cell_type": "markdown",
      "metadata": {
        "id": "Vl2WY4ht9BtI"
      },
      "source": [
        "## 3. Cadastro de e-mails\n",
        "\n",
        "- A Hashtag sempre se comunica com seus clientes por e-mail. Para isso, a gente tem em cada página um cadastro de nome e e-mail. Nesse cadastro, nosso sistema verifica se o e-mail que a pessoa inseriu é um e-mail válido, verificando se ele tem '@' e se depois do '@' tem algum ponto, afinal:\n",
        "\n",
        "- liragmail.com NÃO é um e-mail válido\n",
        "- lira@gmail NÃO é um e-mail válido\n",
        "- lira@gmail.com é um e-mail válido\n",
        "\n",
        "Crie um programa que permita o cadastro de nome e e-mail de uma pessoa (por meio de inputs) e que verifique:\n",
        "1. Se nome e e-mail foram preenchidos, caso contrário ele deve avisar para preencher todos os dados corretamente\n",
        "2. Se o e-mail contém '@' e se depois do '@' existe algum '.', caso contrário ele deve exibir uma mensagem de e-mail inválido\n",
        "\n",
        "Obs: Pode te ajudar lembrar do método .find da aula de Métodos de String. Você pode testar o que ele dá como resposta caso ele não encontre um item dentro da string"
      ]
    },
    {
      "cell_type": "code",
      "execution_count": null,
      "metadata": {
        "id": "izWlC29Y9BtJ",
        "outputId": "c567dee2-b92d-4ea2-c2d3-b55de11f4e62"
      },
      "outputs": [
        {
          "name": "stdout",
          "output_type": "stream",
          "text": [
            "Digite seu nomeLira\n",
            "Digite o seu e-maillira@gmail\n",
            "Email inválido\n"
          ]
        }
      ],
      "source": [
        "nome = input('Digite seu nome')\n",
        "email = input('Digite o seu e-mail')\n",
        "\n",
        "if nome and email:\n",
        "    pos_a = email.find('@')\n",
        "    servidor = email[pos_a:]\n",
        "    if pos_a != -1 and '.' in servidor:\n",
        "        print('Cadastro concluído')\n",
        "    else:\n",
        "        print('Email inválido')\n",
        "else:\n",
        "    print('Digite seu nome e e-mail corretamente')"
      ]
    }
  ],
  "metadata": {
    "kernelspec": {
      "display_name": "Python 3",
      "language": "python",
      "name": "python3"
    },
    "language_info": {
      "codemirror_mode": {
        "name": "ipython",
        "version": 3
      },
      "file_extension": ".py",
      "mimetype": "text/x-python",
      "name": "python",
      "nbconvert_exporter": "python",
      "pygments_lexer": "ipython3",
      "version": "3.8.3"
    },
    "colab": {
      "name": "11 - Cópia de Gabarito - 06.06 Exercícios String.ipynb",
      "provenance": [],
      "include_colab_link": true
    }
  },
  "nbformat": 4,
  "nbformat_minor": 0
}