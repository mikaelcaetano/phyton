{
  "nbformat": 4,
  "nbformat_minor": 0,
  "metadata": {
    "colab": {
      "name": "logicadeprogramacao.ipynb",
      "provenance": [],
      "collapsed_sections": [
        "Y9Sy0lG5uGT1",
        "bwGAK2VL-ocY",
        "eIps7tzihkrA"
      ],
      "authorship_tag": "ABX9TyNY2QLqZNAQbqQ4roSEwJmq",
      "include_colab_link": true
    },
    "kernelspec": {
      "name": "python3",
      "display_name": "Python 3"
    },
    "language_info": {
      "name": "python"
    }
  },
  "cells": [
    {
      "cell_type": "markdown",
      "metadata": {
        "id": "view-in-github",
        "colab_type": "text"
      },
      "source": [
        "<a href=\"https://colab.research.google.com/github/mikaelcaetano/phyton/blob/main/logicadeprogramacao03.ipynb\" target=\"_parent\"><img src=\"https://colab.research.google.com/assets/colab-badge.svg\" alt=\"Open In Colab\"/></a>"
      ]
    },
    {
      "cell_type": "markdown",
      "source": [
        "# Lógica de Programação"
      ],
      "metadata": {
        "id": "1TYKqT_nrtHr"
      }
    },
    {
      "cell_type": "code",
      "execution_count": null,
      "metadata": {
        "id": "hky8fDbDqszw"
      },
      "outputs": [],
      "source": [
        "idade = 24"
      ]
    },
    {
      "cell_type": "code",
      "source": [
        "nome = 'mikael'"
      ],
      "metadata": {
        "id": "v3isQYiEtrxD"
      },
      "execution_count": null,
      "outputs": []
    },
    {
      "cell_type": "code",
      "source": [
        "print(f'meu nome é {nome} e minha idade é {idade}')"
      ],
      "metadata": {
        "colab": {
          "base_uri": "https://localhost:8080/"
        },
        "id": "B5LaWdS1tw3W",
        "outputId": "699c654c-7b55-4fe2-d6d4-fcd93316472e"
      },
      "execution_count": null,
      "outputs": [
        {
          "output_type": "stream",
          "name": "stdout",
          "text": [
            "meu nome é mikael e minha idade é 24\n"
          ]
        }
      ]
    },
    {
      "cell_type": "markdown",
      "source": [
        "# Criando minha primeira função"
      ],
      "metadata": {
        "id": "Y9Sy0lG5uGT1"
      }
    },
    {
      "cell_type": "code",
      "source": [
        "def saudacao():\n",
        "  nome = input('Qual seu nome?')\n",
        "  print(f'olá {nome}')\n",
        "  "
      ],
      "metadata": {
        "id": "NBzpLMTzuQWt"
      },
      "execution_count": null,
      "outputs": []
    },
    {
      "cell_type": "code",
      "source": [
        "saudacao()"
      ],
      "metadata": {
        "colab": {
          "base_uri": "https://localhost:8080/"
        },
        "id": "Q8JPU-CpvpsV",
        "outputId": "bf5457e8-3b5a-4a86-b42b-ac7fa2238ed2"
      },
      "execution_count": null,
      "outputs": [
        {
          "output_type": "stream",
          "name": "stdout",
          "text": [
            "Qual seu nome?mikael\n",
            "olá mikael\n"
          ]
        }
      ]
    },
    {
      "cell_type": "code",
      "source": [
        "def idade():\n",
        "  idade = input('qual sua idade?' )\n",
        "  print(f'voce tem {idade}')"
      ],
      "metadata": {
        "id": "y462qqE7vsbn"
      },
      "execution_count": null,
      "outputs": []
    },
    {
      "cell_type": "code",
      "source": [
        "idade()"
      ],
      "metadata": {
        "colab": {
          "base_uri": "https://localhost:8080/"
        },
        "id": "OqadbKrOxjo1",
        "outputId": "765349fc-9aed-40e4-9c8f-0a6bc2597021"
      },
      "execution_count": null,
      "outputs": [
        {
          "output_type": "stream",
          "name": "stdout",
          "text": [
            "qual sua idade?33\n",
            "voce tem 33anos\n"
          ]
        }
      ]
    },
    {
      "cell_type": "code",
      "source": [
        "def peso():\n",
        "  peso = input('qual e seu peso?')\n",
        "  print(f'voce tem {peso}kg')"
      ],
      "metadata": {
        "id": "bCVAozKsxuO7"
      },
      "execution_count": null,
      "outputs": []
    },
    {
      "cell_type": "code",
      "source": [
        "peso()"
      ],
      "metadata": {
        "colab": {
          "base_uri": "https://localhost:8080/"
        },
        "id": "ansyoH5zyQni",
        "outputId": "ea266403-2213-4bdc-ee8f-d578bc88f5cd"
      },
      "execution_count": null,
      "outputs": [
        {
          "output_type": "stream",
          "name": "stdout",
          "text": [
            "qual e seu peso?70\n",
            "voce tem70 kg\n"
          ]
        }
      ]
    },
    {
      "cell_type": "code",
      "source": [
        "def altura():\n",
        "  altura = input('Qual sua altura?')\n",
        "  print(f'Sua altura é {altura}cm')"
      ],
      "metadata": {
        "id": "1EiZ7FEUySIH"
      },
      "execution_count": null,
      "outputs": []
    },
    {
      "cell_type": "code",
      "source": [
        "altura()"
      ],
      "metadata": {
        "colab": {
          "base_uri": "https://localhost:8080/"
        },
        "id": "whgi26PTzwAy",
        "outputId": "6c4d9e66-4f01-49a4-af85-99f2bbb3495b"
      },
      "execution_count": null,
      "outputs": [
        {
          "output_type": "stream",
          "name": "stdout",
          "text": [
            "Qual sua altura?1.70\n",
            "Sua altura é 1.70cm\n"
          ]
        }
      ]
    },
    {
      "cell_type": "code",
      "source": [
        "def cor():\n",
        "  cor = input('qual sua cor preferida?')\n",
        "  print(f'vc gosta de {cor}')"
      ],
      "metadata": {
        "id": "_wLlwcGe0U2l"
      },
      "execution_count": null,
      "outputs": []
    },
    {
      "cell_type": "code",
      "source": [
        "cor()"
      ],
      "metadata": {
        "colab": {
          "base_uri": "https://localhost:8080/"
        },
        "id": "Fw4xmjqB0qI4",
        "outputId": "7fc4e978-96cb-4383-ae63-83f18c21a13c"
      },
      "execution_count": null,
      "outputs": [
        {
          "output_type": "stream",
          "name": "stdout",
          "text": [
            "qual sua cor preferida?amarelo\n",
            "vc gosta de amarelo\n"
          ]
        }
      ]
    },
    {
      "cell_type": "code",
      "source": [
        "def nomecompleto():\n",
        " primeironome = input('Qual seu primeiro nome? ')\n",
        " sobrenome = input('Qual seu sobrenome? ')\n",
        " nomeinteiro = primeironome + ' ' + sobrenome\n",
        " print(nomeinteiro)\n",
        "\n"
      ],
      "metadata": {
        "id": "CC0v-SCk0tJ2"
      },
      "execution_count": null,
      "outputs": []
    },
    {
      "cell_type": "code",
      "source": [
        "nomecompleto()"
      ],
      "metadata": {
        "colab": {
          "base_uri": "https://localhost:8080/"
        },
        "id": "SIFbj8J-1S7N",
        "outputId": "1d2e17c9-99f0-4a34-a4d9-6a0afaee7b20"
      },
      "execution_count": null,
      "outputs": [
        {
          "output_type": "stream",
          "name": "stdout",
          "text": [
            "Qual seu primeiro nome? mikael\n",
            "Qual seu sobrenome? caetano\n",
            "mikael caetano\n"
          ]
        }
      ]
    },
    {
      "cell_type": "code",
      "source": [
        "def localizacao():\n",
        "  cidade = input('vc é de qual cidade?' ) \n",
        "  estado = input('vc é de qual estado?' )\n",
        "  regiao = cidade + ' ' + estado\n",
        "  print(regiao)"
      ],
      "metadata": {
        "id": "ZFcw112b1V5l"
      },
      "execution_count": null,
      "outputs": []
    },
    {
      "cell_type": "code",
      "source": [
        "localizacao()"
      ],
      "metadata": {
        "colab": {
          "base_uri": "https://localhost:8080/"
        },
        "id": "qaflD8Y_2igA",
        "outputId": "6af02a97-826b-4120-8a95-a63b831044ad"
      },
      "execution_count": null,
      "outputs": [
        {
          "output_type": "stream",
          "name": "stdout",
          "text": [
            "vc é de qual cidade?caxambu\n",
            "vc é de qual estado?minas gerias\n",
            "caxambu minas gerias\n"
          ]
        }
      ]
    },
    {
      "cell_type": "code",
      "source": [
        "localizacao()"
      ],
      "metadata": {
        "colab": {
          "base_uri": "https://localhost:8080/"
        },
        "id": "SeSYyiE82o_a",
        "outputId": "8048fa7e-b39a-4fc7-cdd9-8532ba966dc5"
      },
      "execution_count": null,
      "outputs": [
        {
          "output_type": "stream",
          "name": "stdout",
          "text": [
            "vc é de qual cidade?caxambu\n",
            "vc é de qual estado?minas gerais\n",
            "caxambu minas gerais\n"
          ]
        }
      ]
    },
    {
      "cell_type": "code",
      "source": [
        "def localizacao():\n",
        "  pais = input('seu pais é?' )\n",
        "  continente = input('seu continente é?' )\n",
        "  mundo = pais + ' ' + continente\n",
        "  print(mundo)\n",
        "\n"
      ],
      "metadata": {
        "id": "Io9c-rbJ21FK"
      },
      "execution_count": null,
      "outputs": []
    },
    {
      "cell_type": "code",
      "source": [
        "localizacao()"
      ],
      "metadata": {
        "colab": {
          "base_uri": "https://localhost:8080/"
        },
        "id": "tn-oG04T5R8H",
        "outputId": "3624e56b-a41b-40ac-b8be-369e802cb332"
      },
      "execution_count": null,
      "outputs": [
        {
          "output_type": "stream",
          "name": "stdout",
          "text": [
            "seu pais é?peru\n",
            "seu continente é?america\n",
            "peru america\n"
          ]
        }
      ]
    },
    {
      "cell_type": "markdown",
      "source": [
        "# Parâmetros"
      ],
      "metadata": {
        "id": "bwGAK2VL-ocY"
      }
    },
    {
      "cell_type": "code",
      "source": [
        "nome = 'pedro'"
      ],
      "metadata": {
        "id": "salPgReL-y6X"
      },
      "execution_count": null,
      "outputs": []
    },
    {
      "cell_type": "code",
      "source": [
        "def saudacao_com_parametros(nome_da_pessoa):\n",
        "    print(f'ola {nome_da_pessoa}')"
      ],
      "metadata": {
        "id": "Ko1Vy7YV_CM2"
      },
      "execution_count": null,
      "outputs": []
    },
    {
      "cell_type": "code",
      "source": [
        "saudacao_com_parametros(nome)"
      ],
      "metadata": {
        "colab": {
          "base_uri": "https://localhost:8080/"
        },
        "id": "MA31OBkz_fDj",
        "outputId": "0ae1cfcf-a512-4040-e8b8-d853cad93845"
      },
      "execution_count": null,
      "outputs": [
        {
          "output_type": "stream",
          "name": "stdout",
          "text": [
            "Olá Luiza\n"
          ]
        }
      ]
    },
    {
      "cell_type": "code",
      "source": [
        "nome = 'Luiza'"
      ],
      "metadata": {
        "id": "3IO1FPm5DNwY"
      },
      "execution_count": null,
      "outputs": []
    },
    {
      "cell_type": "code",
      "source": [
        "def saudacao_com_parametros(nome_da_pessoa):\n",
        "  print(f'Olá {nome_da_pessoa}')"
      ],
      "metadata": {
        "id": "F-D3JsWBDdoY"
      },
      "execution_count": null,
      "outputs": []
    },
    {
      "cell_type": "code",
      "source": [
        "saudacao_com_parametros(nome)"
      ],
      "metadata": {
        "colab": {
          "base_uri": "https://localhost:8080/"
        },
        "id": "vHMX3MBRDvYt",
        "outputId": "815f2efa-a2d1-41f3-b77a-73a8469c5613"
      },
      "execution_count": null,
      "outputs": [
        {
          "output_type": "stream",
          "name": "stdout",
          "text": [
            "Olá pedro\n"
          ]
        }
      ]
    },
    {
      "cell_type": "markdown",
      "source": [
        "# Condicionais\n"
      ],
      "metadata": {
        "id": "nHoK7stvEExm"
      }
    },
    {
      "cell_type": "code",
      "source": [
        "idade = 50\n",
        "\n",
        "def verificar(idade):\n",
        "  if idade >= 18:\n",
        "    print('tem permisão para dirigir')\n",
        "  else:\n",
        "     print('Não tem permisão para dirigir')\n",
        "\n"
      ],
      "metadata": {
        "id": "FbO5JUY3EQT9"
      },
      "execution_count": null,
      "outputs": []
    },
    {
      "cell_type": "code",
      "source": [
        "verificar(idade)"
      ],
      "metadata": {
        "colab": {
          "base_uri": "https://localhost:8080/"
        },
        "id": "Csgs170LGjhI",
        "outputId": "b64bbef5-c81e-4afc-cfbe-e7c5bee9314a"
      },
      "execution_count": null,
      "outputs": [
        {
          "output_type": "stream",
          "name": "stdout",
          "text": [
            "tem permisão para dirigir\n"
          ]
        }
      ]
    },
    {
      "cell_type": "code",
      "source": [
        "idade = 18\n",
        "\n",
        "def verificar(idade):\n",
        "  if idade >= 18:\n",
        "   print('vc pode beber')\n",
        "  else:\n",
        "   print('nao pode beber')"
      ],
      "metadata": {
        "id": "obSClveCG5sR"
      },
      "execution_count": null,
      "outputs": []
    },
    {
      "cell_type": "markdown",
      "source": [
        "verificar(idade)"
      ],
      "metadata": {
        "id": "ZkEOoDIpHlwP"
      }
    },
    {
      "cell_type": "code",
      "source": [
        "def verificar():\n",
        "  idade = input('qual sua idade?')\n",
        "  idade = int(idade)\n",
        "  if idade >= 18:\n",
        "    print('sim')\n",
        "  else:\n",
        "      print('não')"
      ],
      "metadata": {
        "id": "blTaQshwIVmF"
      },
      "execution_count": null,
      "outputs": []
    },
    {
      "cell_type": "code",
      "source": [
        "verificar()"
      ],
      "metadata": {
        "colab": {
          "base_uri": "https://localhost:8080/"
        },
        "id": "ef4qyJ88I9R7",
        "outputId": "e8bdc9e2-77d8-490d-9004-3a06b3de5822"
      },
      "execution_count": null,
      "outputs": [
        {
          "output_type": "stream",
          "name": "stdout",
          "text": [
            "qual sua idade?20\n",
            "sim\n"
          ]
        }
      ]
    },
    {
      "cell_type": "code",
      "source": [
        ""
      ],
      "metadata": {
        "id": "-lD7paY_JAmZ"
      },
      "execution_count": null,
      "outputs": []
    },
    {
      "cell_type": "markdown",
      "source": [
        "# Listas"
      ],
      "metadata": {
        "id": "P4HpHeaoGYVr"
      }
    },
    {
      "cell_type": "code",
      "source": [
        "idade = 22\n",
        "idade"
      ],
      "metadata": {
        "colab": {
          "base_uri": "https://localhost:8080/"
        },
        "id": "aRTGO-Q6GcwS",
        "outputId": "9230b35c-3908-4d73-ffb2-de751feca7ed"
      },
      "execution_count": null,
      "outputs": [
        {
          "output_type": "execute_result",
          "data": {
            "text/plain": [
              "22"
            ]
          },
          "metadata": {},
          "execution_count": 6
        }
      ]
    },
    {
      "cell_type": "code",
      "source": [
        "idades = [10, 20, 30, 40, 50]"
      ],
      "metadata": {
        "id": "rb8W1gtQIUhN"
      },
      "execution_count": null,
      "outputs": []
    },
    {
      "cell_type": "code",
      "source": [
        "idades[2]"
      ],
      "metadata": {
        "colab": {
          "base_uri": "https://localhost:8080/"
        },
        "id": "psJU_9lkIc67",
        "outputId": "b6ec8fe9-2ae2-473c-99f4-25b157505a30"
      },
      "execution_count": null,
      "outputs": [
        {
          "output_type": "execute_result",
          "data": {
            "text/plain": [
              "30"
            ]
          },
          "metadata": {},
          "execution_count": 9
        }
      ]
    },
    {
      "cell_type": "code",
      "source": [
        "idades[1:5]"
      ],
      "metadata": {
        "colab": {
          "base_uri": "https://localhost:8080/"
        },
        "id": "CiQDf7KiIh1T",
        "outputId": "2014ee91-791f-49d9-f0bd-be48a4ee2ee4"
      },
      "execution_count": null,
      "outputs": [
        {
          "output_type": "execute_result",
          "data": {
            "text/plain": [
              "[20, 30, 40, 50]"
            ]
          },
          "metadata": {},
          "execution_count": 10
        }
      ]
    },
    {
      "cell_type": "code",
      "source": [
        "idades[0:4]"
      ],
      "metadata": {
        "colab": {
          "base_uri": "https://localhost:8080/"
        },
        "id": "28Eo-QcFInil",
        "outputId": "54dbd0db-1abd-41da-eb32-70fe09da2960"
      },
      "execution_count": null,
      "outputs": [
        {
          "output_type": "execute_result",
          "data": {
            "text/plain": [
              "[10, 20, 30, 40]"
            ]
          },
          "metadata": {},
          "execution_count": 12
        }
      ]
    },
    {
      "cell_type": "code",
      "source": [
        "idades[0:3]"
      ],
      "metadata": {
        "colab": {
          "base_uri": "https://localhost:8080/"
        },
        "id": "9WSEe4XxRpMS",
        "outputId": "30607bc9-8f54-4d5f-f1cf-62730d656f3e"
      },
      "execution_count": null,
      "outputs": [
        {
          "output_type": "execute_result",
          "data": {
            "text/plain": [
              "[10, 20, 30]"
            ]
          },
          "metadata": {},
          "execution_count": 14
        }
      ]
    },
    {
      "cell_type": "markdown",
      "source": [
        "# Laços e loops"
      ],
      "metadata": {
        "id": "XNuWCkMhUJVa"
      }
    },
    {
      "cell_type": "code",
      "source": [
        "idades = [18, 20, 15, 40]"
      ],
      "metadata": {
        "id": "Ygdjw7y5UNH5"
      },
      "execution_count": null,
      "outputs": []
    },
    {
      "cell_type": "code",
      "source": [
        "def verifica_se_pode_dirigir(idade):\n",
        "  if idade >= 18:\n",
        "    print(f'{idade} anos de idade, TEM permissão para dirigir')\n",
        "  else:\n",
        "    print(f'{idade} anos de idade, NÃO TEM permissão para dirigir')\n",
        "\n",
        "for idade in idades:\n",
        "   verifica_se_pode_dirigir(idade)   "
      ],
      "metadata": {
        "colab": {
          "base_uri": "https://localhost:8080/"
        },
        "id": "dZOi_vS3VO3c",
        "outputId": "5ecc6290-04d9-409c-a6ee-44786bdad31e"
      },
      "execution_count": null,
      "outputs": [
        {
          "output_type": "stream",
          "name": "stdout",
          "text": [
            "18 anos de idade, TEM permissão para dirigir\n",
            "20 anos de idade, TEM permissão para dirigir\n",
            "15 anos de idade, NÃO TEM permissão para dirigir\n",
            "40 anos de idade, TEM permissão para dirigir\n"
          ]
        }
      ]
    },
    {
      "cell_type": "code",
      "source": [
        "def verifica_se_pode_dirigir(idades):\n",
        "  for idade in idades:\n",
        "   if idade >= 18:\n",
        "    print(f'{idade} anos de idade, TEM permissão para dirigir')\n",
        "   else:\n",
        "    print(f'{idade} anos de idade, NÃO TEM permissão para dirigir')\n",
        "verifica_se_pode_dirigir(idades) \n",
        "\n"
      ],
      "metadata": {
        "colab": {
          "base_uri": "https://localhost:8080/"
        },
        "id": "9vp4VAWaWFJg",
        "outputId": "3c7b56ac-ef0d-454d-c198-d3bc489c4808"
      },
      "execution_count": null,
      "outputs": [
        {
          "output_type": "stream",
          "name": "stdout",
          "text": [
            "18 anos de idade, TEM permissão para dirigir\n",
            "20 anos de idade, TEM permissão para dirigir\n",
            "15 anos de idade, NÃO TEM permissão para dirigir\n",
            "40 anos de idade, TEM permissão para dirigir\n"
          ]
        }
      ]
    },
    {
      "cell_type": "code",
      "source": [
        "idades = [10, 20, 5, 30]"
      ],
      "metadata": {
        "id": "77GGReFNmA9O"
      },
      "execution_count": 51,
      "outputs": []
    },
    {
      "cell_type": "code",
      "source": [
        "def verifica(idades):\n",
        "  for idade in idades:\n",
        "   if idade >= 20:\n",
        "    print(f'{idade} anos de idade, Adulto')\n",
        "   else:\n",
        "    print(f'{idade} anos de idade, Criança')\n",
        "verifica(idades) \n"
      ],
      "metadata": {
        "colab": {
          "base_uri": "https://localhost:8080/"
        },
        "id": "6jAOrraFmQ8d",
        "outputId": "f78c20db-aa77-4cbd-a26c-4edf55d81b66"
      },
      "execution_count": 52,
      "outputs": [
        {
          "output_type": "stream",
          "name": "stdout",
          "text": [
            "10 anos de idade, Criança\n",
            "20 anos de idade, Adulto\n",
            "5 anos de idade, Criança\n",
            "30 anos de idade, Adulto\n"
          ]
        }
      ]
    },
    {
      "cell_type": "code",
      "source": [
        "def verifica(idade):\n",
        "  if idade >= 20:\n",
        "    print(f'{idade} anos de idade, Adulto')\n",
        "  else:\n",
        "    print(f'{idade} anos de idade, Criança')\n",
        "for idade in idades:    \n",
        "  verifica(idade) "
      ],
      "metadata": {
        "colab": {
          "base_uri": "https://localhost:8080/"
        },
        "id": "Almqzj4AnpTt",
        "outputId": "8f71712f-85e7-4f3c-f975-46765b499d2b"
      },
      "execution_count": 56,
      "outputs": [
        {
          "output_type": "stream",
          "name": "stdout",
          "text": [
            "10 anos de idade, Criança\n",
            "20 anos de idade, Adulto\n",
            "5 anos de idade, Criança\n",
            "30 anos de idade, Adulto\n"
          ]
        }
      ]
    },
    {
      "cell_type": "markdown",
      "source": [
        "# Boleano"
      ],
      "metadata": {
        "id": "eIps7tzihkrA"
      }
    },
    {
      "cell_type": "code",
      "source": [
        "permissoes = []\n",
        "idades = [20, 14, 40]  "
      ],
      "metadata": {
        "id": "zHNn-tAEk18r"
      },
      "execution_count": 44,
      "outputs": []
    },
    {
      "cell_type": "code",
      "source": [
        "def verifica_se_pode_dirigir(idades, permissoes):\n",
        "    for idade in idades:\n",
        "      if idade >= 18:\n",
        "          permissoes.append(True)\n",
        "      else:\n",
        "          permissoes.append(False)\n",
        "verifica_se_pode_dirigir(idades, permissoes)"
      ],
      "metadata": {
        "id": "iD6hnJ8elD0A"
      },
      "execution_count": 46,
      "outputs": []
    },
    {
      "cell_type": "code",
      "source": [
        "permissoes"
      ],
      "metadata": {
        "colab": {
          "base_uri": "https://localhost:8080/"
        },
        "id": "fwKnpKM2lTzQ",
        "outputId": "3a6dc9f6-53a0-46ba-9b71-d91a744ecc52"
      },
      "execution_count": 47,
      "outputs": [
        {
          "output_type": "execute_result",
          "data": {
            "text/plain": [
              "[True, False, True]"
            ]
          },
          "metadata": {},
          "execution_count": 47
        }
      ]
    },
    {
      "cell_type": "code",
      "source": [
        "for permissao in permissoes:\n",
        "  if permissao == True:\n",
        "    print('Tem permissão para dirigir')\n",
        "  else:\n",
        "    print('Não tem permissão para dirigir')"
      ],
      "metadata": {
        "colab": {
          "base_uri": "https://localhost:8080/"
        },
        "id": "2Xn4qYxolZhO",
        "outputId": "105f92d2-f4f1-46cf-b687-e89fa522c7b9"
      },
      "execution_count": 48,
      "outputs": [
        {
          "output_type": "stream",
          "name": "stdout",
          "text": [
            "Tem permissão para dirigir\n",
            "Não tem permissão para dirigir\n",
            "Tem permissão para dirigir\n"
          ]
        }
      ]
    }
  ]
}