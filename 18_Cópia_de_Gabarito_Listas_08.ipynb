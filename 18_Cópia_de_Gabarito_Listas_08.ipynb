{
  "cells": [
    {
      "cell_type": "markdown",
      "metadata": {
        "id": "view-in-github",
        "colab_type": "text"
      },
      "source": [
        "<a href=\"https://colab.research.google.com/github/mikaelcaetano/phyton/blob/main/18_C%C3%B3pia_de_Gabarito_Listas_08.ipynb\" target=\"_parent\"><img src=\"https://colab.research.google.com/assets/colab-badge.svg\" alt=\"Open In Colab\"/></a>"
      ]
    },
    {
      "cell_type": "markdown",
      "metadata": {
        "id": "YZaJowzcdmMQ"
      },
      "source": [
        "# Alterações \"Incrementais\" de Variáveis\n",
        "\n",
        "Estrutura:\n",
        "\n",
        "- variavel = variavel + outro_valor\n",
        "\n",
        "ou então\n",
        "\n",
        "- variavel += outro_valor"
      ]
    },
    {
      "cell_type": "markdown",
      "metadata": {
        "id": "rbdTqV7VdmMW"
      },
      "source": [
        "Exemplo: vamos adicionar às variáveis criadas o Produto IPad, 500 vendas"
      ]
    },
    {
      "cell_type": "code",
      "execution_count": null,
      "metadata": {
        "id": "w9tLGlBydmMY",
        "outputId": "2abebf8a-334f-4304-c75f-9495bee4f4dc"
      },
      "outputs": [
        {
          "name": "stdout",
          "output_type": "stream",
          "text": [
            "['mac', 'iphone', 'Ipad']\n"
          ]
        }
      ],
      "source": [
        "lista = ['mac', 'iphone']\n",
        "vendas = [100, 200]\n",
        "#adicionando IPad na lista\n",
        "lista += ['Ipad']\n",
        "print(lista)"
      ]
    },
    {
      "cell_type": "code",
      "execution_count": null,
      "metadata": {
        "id": "bGq3irzpdmMb",
        "outputId": "260966cd-a1ea-4202-f364-98fbc8d0b7f4"
      },
      "outputs": [
        {
          "name": "stdout",
          "output_type": "stream",
          "text": [
            "800\n"
          ]
        }
      ],
      "source": [
        "soma_vendas = 300\n",
        "#adicionando na soma a quantidade de IPad\n",
        "\n",
        "soma_vendas += 500\n",
        "\n",
        "print(soma_vendas)"
      ]
    },
    {
      "cell_type": "code",
      "execution_count": null,
      "metadata": {
        "id": "eQ2n-qTNdmMc",
        "outputId": "fcd6846d-1472-4036-cfc1-21765fc58030"
      },
      "outputs": [
        {
          "name": "stdout",
          "output_type": "stream",
          "text": [
            "Esse mês vendemos um total de 800 produtos, sendo:\n",
            "100 unidades de mac\n",
            "200 unidades de iphone\n",
            "500 unidades de Ipad\n"
          ]
        }
      ],
      "source": [
        "email = 'Esse mês vendemos um total de {} produtos, sendo:\\n{} unidades de {}\\n{} unidades de {}'.format(soma_vendas, vendas[0], lista[0], vendas[1], lista[1])\n",
        "#adicionando no fim do texto o Ipad\n",
        "\n",
        "email += '\\n{} unidades de Ipad'.format(500)\n",
        "\n",
        "\n",
        "\n",
        "\n",
        "print(email)"
      ]
    }
  ],
  "metadata": {
    "kernelspec": {
      "display_name": "Python 3",
      "language": "python",
      "name": "python3"
    },
    "language_info": {
      "codemirror_mode": {
        "name": "ipython",
        "version": 3
      },
      "file_extension": ".py",
      "mimetype": "text/x-python",
      "name": "python",
      "nbconvert_exporter": "python",
      "pygments_lexer": "ipython3",
      "version": "3.8.3"
    },
    "colab": {
      "name": "18 - Cópia de Gabarito - Listas 08.ipynb",
      "provenance": [],
      "include_colab_link": true
    }
  },
  "nbformat": 4,
  "nbformat_minor": 0
}