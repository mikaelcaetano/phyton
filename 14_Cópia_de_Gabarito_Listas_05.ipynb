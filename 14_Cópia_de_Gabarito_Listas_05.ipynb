{
  "cells": [
    {
      "cell_type": "markdown",
      "metadata": {
        "id": "view-in-github",
        "colab_type": "text"
      },
      "source": [
        "<a href=\"https://colab.research.google.com/github/mikaelcaetano/phyton/blob/main/14_C%C3%B3pia_de_Gabarito_Listas_05.ipynb\" target=\"_parent\"><img src=\"https://colab.research.google.com/assets/colab-badge.svg\" alt=\"Open In Colab\"/></a>"
      ]
    },
    {
      "cell_type": "markdown",
      "metadata": {
        "id": "I7kw7MFqN3Jw"
      },
      "source": [
        "# Algumas Funções Básicas de Lista\n",
        "\n",
        "## Tamanho da Lista\n",
        "\n",
        "tamanho = len(lista)"
      ]
    },
    {
      "cell_type": "code",
      "execution_count": null,
      "metadata": {
        "id": "NrgXs9MqN3J3"
      },
      "outputs": [],
      "source": [
        "produtos = ['apple tv', 'mac', 'iphone x', 'IPad', 'apple watch', 'mac book', 'airpods']"
      ]
    },
    {
      "cell_type": "markdown",
      "metadata": {
        "id": "GatcHCzaN3J5"
      },
      "source": [
        "- Quantos produtos temos a venda?"
      ]
    },
    {
      "cell_type": "code",
      "execution_count": null,
      "metadata": {
        "id": "Yzozyky9N3J6",
        "outputId": "c6c9502c-5cb4-4b80-d2f8-290c75f3ad3b"
      },
      "outputs": [
        {
          "name": "stdout",
          "output_type": "stream",
          "text": [
            "Temos 7 produtos\n"
          ]
        }
      ],
      "source": [
        "tamanho = len(produtos)\n",
        "print('Temos {} produtos'.format(tamanho))"
      ]
    },
    {
      "cell_type": "markdown",
      "metadata": {
        "id": "PWDPuPXaN3J7"
      },
      "source": [
        "## Maior e Menor Valor\n",
        "\n",
        "maior = max(lista)\n",
        "\n",
        "menor = min(lista)"
      ]
    },
    {
      "cell_type": "code",
      "execution_count": null,
      "metadata": {
        "id": "n5tWegavN3J8"
      },
      "outputs": [],
      "source": [
        "vendas = [1000, 1500, 15000, 270, 900, 100, 1200]"
      ]
    },
    {
      "cell_type": "markdown",
      "metadata": {
        "id": "WqCE6XqyN3J8"
      },
      "source": [
        "- Qual o item mais vendido?\n",
        "- Qual o item menos vendido?"
      ]
    },
    {
      "cell_type": "code",
      "execution_count": null,
      "metadata": {
        "id": "JpkE8zO0N3J9",
        "outputId": "4f5a9ae2-b6e6-4426-97c9-c7f379eae63a"
      },
      "outputs": [
        {
          "name": "stdout",
          "output_type": "stream",
          "text": [
            "O produto mais vendido teve 15000 unidades vendidas e o menos vendido teve 100 unidades vendidas\n"
          ]
        }
      ],
      "source": [
        "mais_vendido = max(vendas)\n",
        "menos_vendido = min(vendas)\n",
        "print('O produto mais vendido teve {} unidades vendidas e o menos vendido teve {} unidades vendidas'.format(mais_vendido, menos_vendido))"
      ]
    },
    {
      "cell_type": "code",
      "execution_count": null,
      "metadata": {
        "id": "giLgE0ojN3J-",
        "outputId": "a29cb26f-94e5-44d3-c03b-40cec1d5d21e"
      },
      "outputs": [
        {
          "name": "stdout",
          "output_type": "stream",
          "text": [
            "iphone x\n",
            "mac book\n"
          ]
        }
      ],
      "source": [
        "i = vendas.index(mais_vendido)\n",
        "produto_mais_vendido = produtos[i]\n",
        "\n",
        "print(produto_mais_vendido)\n",
        "\n",
        "i = vendas.index(menos_vendido)\n",
        "produto_menos_vendido = produtos[i]\n",
        "\n",
        "print(produto_menos_vendido)"
      ]
    }
  ],
  "metadata": {
    "kernelspec": {
      "display_name": "Python 3",
      "language": "python",
      "name": "python3"
    },
    "language_info": {
      "codemirror_mode": {
        "name": "ipython",
        "version": 3
      },
      "file_extension": ".py",
      "mimetype": "text/x-python",
      "name": "python",
      "nbconvert_exporter": "python",
      "pygments_lexer": "ipython3",
      "version": "3.8.3"
    },
    "colab": {
      "name": "14 - Cópia de Gabarito - Listas 05.ipynb",
      "provenance": [],
      "include_colab_link": true
    }
  },
  "nbformat": 4,
  "nbformat_minor": 0
}