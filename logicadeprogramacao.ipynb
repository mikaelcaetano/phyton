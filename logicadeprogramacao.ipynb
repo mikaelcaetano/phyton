{
  "nbformat": 4,
  "nbformat_minor": 0,
  "metadata": {
    "colab": {
      "name": "logicadeprogramacao.ipynb",
      "provenance": [],
      "authorship_tag": "ABX9TyOguO54tp5BaNKhIuasQc5c",
      "include_colab_link": true
    },
    "kernelspec": {
      "name": "python3",
      "display_name": "Python 3"
    },
    "language_info": {
      "name": "python"
    }
  },
  "cells": [
    {
      "cell_type": "markdown",
      "metadata": {
        "id": "view-in-github",
        "colab_type": "text"
      },
      "source": [
        "<a href=\"https://colab.research.google.com/github/mikaelcaetano/phyton/blob/main/logicadeprogramacao.ipynb\" target=\"_parent\"><img src=\"https://colab.research.google.com/assets/colab-badge.svg\" alt=\"Open In Colab\"/></a>"
      ]
    },
    {
      "cell_type": "markdown",
      "source": [
        "# Lógica de Programação"
      ],
      "metadata": {
        "id": "1TYKqT_nrtHr"
      }
    },
    {
      "cell_type": "code",
      "execution_count": 2,
      "metadata": {
        "id": "hky8fDbDqszw"
      },
      "outputs": [],
      "source": [
        "idade = 24"
      ]
    },
    {
      "cell_type": "code",
      "source": [
        "nome = 'mikael'"
      ],
      "metadata": {
        "id": "v3isQYiEtrxD"
      },
      "execution_count": 3,
      "outputs": []
    },
    {
      "cell_type": "code",
      "source": [
        "print(f'meu nome é {nome} e minha idade é {idade}')"
      ],
      "metadata": {
        "colab": {
          "base_uri": "https://localhost:8080/"
        },
        "id": "B5LaWdS1tw3W",
        "outputId": "699c654c-7b55-4fe2-d6d4-fcd93316472e"
      },
      "execution_count": 4,
      "outputs": [
        {
          "output_type": "stream",
          "name": "stdout",
          "text": [
            "meu nome é mikael e minha idade é 24\n"
          ]
        }
      ]
    },
    {
      "cell_type": "markdown",
      "source": [
        "# Criando minha primeira função"
      ],
      "metadata": {
        "id": "Y9Sy0lG5uGT1"
      }
    },
    {
      "cell_type": "code",
      "source": [
        "def saudacao():\n",
        "  nome = input('Qual seu nome?')\n",
        "  print(f'olá {nome}')\n",
        "  "
      ],
      "metadata": {
        "id": "NBzpLMTzuQWt"
      },
      "execution_count": 7,
      "outputs": []
    },
    {
      "cell_type": "code",
      "source": [
        "saudacao()"
      ],
      "metadata": {
        "colab": {
          "base_uri": "https://localhost:8080/"
        },
        "id": "Q8JPU-CpvpsV",
        "outputId": "bf5457e8-3b5a-4a86-b42b-ac7fa2238ed2"
      },
      "execution_count": 6,
      "outputs": [
        {
          "output_type": "stream",
          "name": "stdout",
          "text": [
            "Qual seu nome?mikael\n",
            "olá mikael\n"
          ]
        }
      ]
    },
    {
      "cell_type": "code",
      "source": [
        "def idade():\n",
        "  idade = input('qual sua idade?' )\n",
        "  print(f'voce tem {idade}')"
      ],
      "metadata": {
        "id": "y462qqE7vsbn"
      },
      "execution_count": 14,
      "outputs": []
    },
    {
      "cell_type": "code",
      "source": [
        "idade()"
      ],
      "metadata": {
        "colab": {
          "base_uri": "https://localhost:8080/"
        },
        "id": "OqadbKrOxjo1",
        "outputId": "765349fc-9aed-40e4-9c8f-0a6bc2597021"
      },
      "execution_count": 16,
      "outputs": [
        {
          "output_type": "stream",
          "name": "stdout",
          "text": [
            "qual sua idade?33\n",
            "voce tem 33anos\n"
          ]
        }
      ]
    },
    {
      "cell_type": "code",
      "source": [
        "def peso():\n",
        "  peso = input('qual e seu peso?')\n",
        "  print(f'voce tem {peso}kg')"
      ],
      "metadata": {
        "id": "bCVAozKsxuO7"
      },
      "execution_count": 17,
      "outputs": []
    },
    {
      "cell_type": "code",
      "source": [
        "peso()"
      ],
      "metadata": {
        "colab": {
          "base_uri": "https://localhost:8080/"
        },
        "id": "ansyoH5zyQni",
        "outputId": "ea266403-2213-4bdc-ee8f-d578bc88f5cd"
      },
      "execution_count": 18,
      "outputs": [
        {
          "output_type": "stream",
          "name": "stdout",
          "text": [
            "qual e seu peso?70\n",
            "voce tem70 kg\n"
          ]
        }
      ]
    },
    {
      "cell_type": "code",
      "source": [
        "def altura():\n",
        "  altura = input('Qual sua altura?')\n",
        "  print(f'Sua altura é {altura}cm')"
      ],
      "metadata": {
        "id": "1EiZ7FEUySIH"
      },
      "execution_count": 19,
      "outputs": []
    },
    {
      "cell_type": "code",
      "source": [
        "altura()"
      ],
      "metadata": {
        "colab": {
          "base_uri": "https://localhost:8080/"
        },
        "id": "whgi26PTzwAy",
        "outputId": "6c4d9e66-4f01-49a4-af85-99f2bbb3495b"
      },
      "execution_count": 21,
      "outputs": [
        {
          "output_type": "stream",
          "name": "stdout",
          "text": [
            "Qual sua altura?1.70\n",
            "Sua altura é 1.70cm\n"
          ]
        }
      ]
    },
    {
      "cell_type": "code",
      "source": [
        "def cor():\n",
        "  cor = input('qual sua cor preferida?')\n",
        "  print(f'vc gosta de {cor}')"
      ],
      "metadata": {
        "id": "_wLlwcGe0U2l"
      },
      "execution_count": 22,
      "outputs": []
    },
    {
      "cell_type": "code",
      "source": [
        "cor()"
      ],
      "metadata": {
        "colab": {
          "base_uri": "https://localhost:8080/"
        },
        "id": "Fw4xmjqB0qI4",
        "outputId": "7fc4e978-96cb-4383-ae63-83f18c21a13c"
      },
      "execution_count": 23,
      "outputs": [
        {
          "output_type": "stream",
          "name": "stdout",
          "text": [
            "qual sua cor preferida?amarelo\n",
            "vc gosta de amarelo\n"
          ]
        }
      ]
    },
    {
      "cell_type": "code",
      "source": [
        "def nomecompleto():\n",
        " primeironome = input('Qual seu primeiro nome? ')\n",
        " sobrenome = input('Qual seu sobrenome? ')\n",
        " nomeinteiro = primeironome + ' ' + sobrenome\n",
        " print(nomeinteiro)\n",
        "\n"
      ],
      "metadata": {
        "id": "CC0v-SCk0tJ2"
      },
      "execution_count": 24,
      "outputs": []
    },
    {
      "cell_type": "code",
      "source": [
        "nomecompleto()"
      ],
      "metadata": {
        "colab": {
          "base_uri": "https://localhost:8080/"
        },
        "id": "SIFbj8J-1S7N",
        "outputId": "1d2e17c9-99f0-4a34-a4d9-6a0afaee7b20"
      },
      "execution_count": 25,
      "outputs": [
        {
          "output_type": "stream",
          "name": "stdout",
          "text": [
            "Qual seu primeiro nome? mikael\n",
            "Qual seu sobrenome? caetano\n",
            "mikael caetano\n"
          ]
        }
      ]
    },
    {
      "cell_type": "code",
      "source": [
        "def localizacao():\n",
        "  cidade = input('vc é de qual cidade?' ) \n",
        "  estado = input('vc é de qual estado?' )\n",
        "  regiao = cidade + ' ' + estado\n",
        "  print(regiao)"
      ],
      "metadata": {
        "id": "ZFcw112b1V5l"
      },
      "execution_count": 34,
      "outputs": []
    },
    {
      "cell_type": "code",
      "source": [
        "localizacao()"
      ],
      "metadata": {
        "colab": {
          "base_uri": "https://localhost:8080/"
        },
        "id": "qaflD8Y_2igA",
        "outputId": "6af02a97-826b-4120-8a95-a63b831044ad"
      },
      "execution_count": 27,
      "outputs": [
        {
          "output_type": "stream",
          "name": "stdout",
          "text": [
            "vc é de qual cidade?caxambu\n",
            "vc é de qual estado?minas gerias\n",
            "caxambu minas gerias\n"
          ]
        }
      ]
    },
    {
      "cell_type": "code",
      "source": [
        "localizacao()"
      ],
      "metadata": {
        "colab": {
          "base_uri": "https://localhost:8080/"
        },
        "id": "SeSYyiE82o_a",
        "outputId": "8048fa7e-b39a-4fc7-cdd9-8532ba966dc5"
      },
      "execution_count": 29,
      "outputs": [
        {
          "output_type": "stream",
          "name": "stdout",
          "text": [
            "vc é de qual cidade?caxambu\n",
            "vc é de qual estado?minas gerais\n",
            "caxambu minas gerais\n"
          ]
        }
      ]
    },
    {
      "cell_type": "code",
      "source": [
        "def localizacao():\n",
        "  pais = input('seu pais é?' )\n",
        "  continente = input('seu continente é?' )\n",
        "  mundo = pais + ' ' + continente\n",
        "  print(mundo)\n",
        "\n"
      ],
      "metadata": {
        "id": "Io9c-rbJ21FK"
      },
      "execution_count": 37,
      "outputs": []
    },
    {
      "cell_type": "code",
      "source": [
        "localizacao()"
      ],
      "metadata": {
        "colab": {
          "base_uri": "https://localhost:8080/"
        },
        "id": "tn-oG04T5R8H",
        "outputId": "3624e56b-a41b-40ac-b8be-369e802cb332"
      },
      "execution_count": 38,
      "outputs": [
        {
          "output_type": "stream",
          "name": "stdout",
          "text": [
            "seu pais é?peru\n",
            "seu continente é?america\n",
            "peru america\n"
          ]
        }
      ]
    },
    {
      "cell_type": "code",
      "source": [
        ""
      ],
      "metadata": {
        "id": "-xeXDarW5Xnd"
      },
      "execution_count": null,
      "outputs": []
    }
  ]
}