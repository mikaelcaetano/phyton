{
  "cells": [
    {
      "cell_type": "markdown",
      "metadata": {
        "id": "view-in-github",
        "colab_type": "text"
      },
      "source": [
        "<a href=\"https://colab.research.google.com/github/mikaelcaetano/phyton/blob/main/07%20-%20C%C3%B3pia_de_Gabarito_M%C3%B3dulo_if_Aula_06.ipynb\" target=\"_parent\"><img src=\"https://colab.research.google.com/assets/colab-badge.svg\" alt=\"Open In Colab\"/></a>"
      ]
    },
    {
      "cell_type": "markdown",
      "metadata": {
        "id": "WqeQtCfuGUJx"
      },
      "source": [
        "# Comparações Contraintuitivas\n",
        "\n",
        "Existem algumas comparações no Python que não são tão intuitivas quando vemos pela primeira vez, mas que são muito usadas, principalmente por programadores mais experientes.\n",
        "\n",
        "É bom sabermos alguns exemplos e buscar sempre entender o que aquela comparação está buscando verificar.\n",
        "\n",
        "### Exemplo 1:\n",
        "\n",
        "Digamos que você está construindo um sistema de controle de vendas e precisa de algumas informações para fazer o cálculo do resultado da loja no fim de um mês."
      ]
    },
    {
      "cell_type": "code",
      "execution_count": null,
      "metadata": {
        "id": "EaU4OfRsGUJ4",
        "outputId": "8fa1c714-7f6c-4897-d07f-845fca46ce2d"
      },
      "outputs": [
        {
          "name": "stdout",
          "output_type": "stream",
          "text": [
            "Qual foi o faturamento da loja nesse mês?500\n",
            "Qual foi o custo da loja nesse mês?\n",
            "Preencha o faturamento e o lucro corretamente\n"
          ]
        }
      ],
      "source": [
        "faturamento = input('Qual foi o faturamento da loja nesse mês?')\n",
        "custo = input('Qual foi o custo da loja nesse mês?')\n",
        "\n",
        "if faturamento and custo:\n",
        "    lucro = int(faturamento) - int(custo)\n",
        "    print(\"O lucro da loja foi de {} reais\".format(lucro))\n",
        "else:\n",
        "    print('Preencha o faturamento e o custo corretamente')"
      ]
    },
    {
      "cell_type": "markdown",
      "metadata": {
        "id": "ybzQ_LmrGUJ6"
      },
      "source": [
        "## Resumo\n",
        "\n",
        "Algumas comparações contraintuitivas muito usadas:\n",
        "\n",
        "If 0:\n",
        "\n",
        "If '':\n",
        "\n",
        "Temos outras também, mas que são usadas para verificar listas vazias, dicionários vazios, objetos vazios e assim vai. Quando chegarmos nesses módulos vamos relembrar esse conceito, mas o importante é saber dessa possibilidade e entender seu uso."
      ]
    }
  ],
  "metadata": {
    "kernelspec": {
      "display_name": "Python 3",
      "language": "python",
      "name": "python3"
    },
    "language_info": {
      "codemirror_mode": {
        "name": "ipython",
        "version": 3
      },
      "file_extension": ".py",
      "mimetype": "text/x-python",
      "name": "python",
      "nbconvert_exporter": "python",
      "pygments_lexer": "ipython3",
      "version": "3.8.8"
    },
    "colab": {
      "name": "Cópia de Gabarito - Módulo if - Aula 06.ipynb",
      "provenance": [],
      "include_colab_link": true
    }
  },
  "nbformat": 4,
  "nbformat_minor": 0
}