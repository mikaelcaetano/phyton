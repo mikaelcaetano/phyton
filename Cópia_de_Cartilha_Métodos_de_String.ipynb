{
  "cells": [
    {
      "cell_type": "markdown",
      "metadata": {
        "id": "view-in-github",
        "colab_type": "text"
      },
      "source": [
        "<a href=\"https://colab.research.google.com/github/mikaelcaetano/phyton/blob/main/C%C3%B3pia_de_Cartilha_M%C3%A9todos_de_String.ipynb\" target=\"_parent\"><img src=\"https://colab.research.google.com/assets/colab-badge.svg\" alt=\"Open In Colab\"/></a>"
      ]
    },
    {
      "cell_type": "markdown",
      "metadata": {
        "id": "PU4hPNg4zCE-"
      },
      "source": [
        "# Métodos de String\n",
        "\n",
        "Não decore os métodos, os que você for mais usando com o tempo você vai decorar o que precisar.\n",
        "\n",
        "Mas a dica é: use essa lista para consulta e busque entender como os métodos funcionam e suas aplicações, para poder consultar e usar quando precisar.\n",
        "\n",
        "## Métodos Embutidos no Python que funcionam em string:"
      ]
    },
    {
      "cell_type": "markdown",
      "metadata": {
        "id": "cpsxMV-6zCFG"
      },
      "source": [
        "- Sinal de Mais (+) -> Serve para concatenar strings"
      ]
    },
    {
      "cell_type": "raw",
      "metadata": {
        "id": "N8BzhfOTzCFH"
      },
      "source": [
        "    Uso: \n",
        "        usuario = 'lira'\n",
        "        servidor = 'gmail.com'\n",
        "        print(usuario + '@' + servidor)\n",
        "    Resultado: \n",
        "        'lira@gmail.com'"
      ]
    },
    {
      "cell_type": "markdown",
      "metadata": {
        "id": "QHVydRdlzCFJ"
      },
      "source": [
        "- str() -> transforma o valor em string"
      ]
    },
    {
      "cell_type": "raw",
      "metadata": {
        "id": "WWVn3baBzCFK"
      },
      "source": [
        "    Uso: \n",
        "        faturamento = 1000\n",
        "        print('O faturamento da loja foi de ' + str(faturamento))\n",
        "    Resultado: \n",
        "        'O faturamento da loja foi de 1000'"
      ]
    },
    {
      "cell_type": "markdown",
      "metadata": {
        "id": "tvEU31s0zCFL"
      },
      "source": [
        "- in e not -> Servem para fazer verificações em string"
      ]
    },
    {
      "cell_type": "raw",
      "metadata": {
        "id": "CjCQ6RHKzCFM"
      },
      "source": [
        "    Uso: \n",
        "        servidor = 'gmail.com'\n",
        "        print(servidor in 'lira@gmail.com')\n",
        "        print(servidor not in lira@gmail.com')\n",
        "    Resultado: \n",
        "        True\n",
        "        False"
      ]
    },
    {
      "cell_type": "markdown",
      "metadata": {
        "id": "SFFDfIa9zCFO"
      },
      "source": [
        "- len() -> Calcula o tamanho do texto (quantidade de caracteres)"
      ]
    },
    {
      "cell_type": "raw",
      "metadata": {
        "id": "Q1KyYcGTzCFQ"
      },
      "source": [
        "    Uso: \n",
        "        cpf = '15389731821'\n",
        "        print('O cpf tem' + len(cpf) + 'digitos.')\n",
        "    Resultado: \n",
        "        'O cpf tem 11 digitos'"
      ]
    },
    {
      "cell_type": "markdown",
      "metadata": {
        "id": "95BPtzW-zCFR"
      },
      "source": [
        "## Métodos Específicos de String:"
      ]
    },
    {
      "cell_type": "markdown",
      "metadata": {
        "id": "1g03qpDUzCFS"
      },
      "source": [
        "- capitalize() -> Coloca a 1ª letra Maiúscula"
      ]
    },
    {
      "cell_type": "raw",
      "metadata": {
        "id": "pH0twfA-zCFT"
      },
      "source": [
        "    Uso: \n",
        "        texto = 'lira'\n",
        "        print(texto.capitalize())\n",
        "    Resultado: \n",
        "        'Lira'"
      ]
    },
    {
      "cell_type": "markdown",
      "metadata": {
        "id": "marN-TMzzCFU"
      },
      "source": [
        "- casefold() -> Transforma todas as letras em minúsculas (existe lower() mas o casefold é melhor normalmente)"
      ]
    },
    {
      "cell_type": "raw",
      "metadata": {
        "id": "WSiMgTP7zCFV"
      },
      "source": [
        "    Uso: \n",
        "        texto = 'Lira'\n",
        "        print(texto.casefold())\n",
        "    Resultado: \n",
        "        'lira'"
      ]
    },
    {
      "cell_type": "markdown",
      "metadata": {
        "id": "YeyYktpUzCFV"
      },
      "source": [
        "- count()\t-> Quantidade de vezes que um valor aparece na string"
      ]
    },
    {
      "cell_type": "raw",
      "metadata": {
        "id": "BoXoOQxzzCFW"
      },
      "source": [
        "    Uso:\n",
        "        texto = 'lira@yahoo.com.br'\n",
        "        print(texto.count('.'))\n",
        "    Resultado:\n",
        "        2"
      ]
    },
    {
      "cell_type": "markdown",
      "metadata": {
        "id": "DOrn_g9qzCFX"
      },
      "source": [
        "- endswith() -> Verifica se o texto termina com um valor específico e dá como resposta True ou False"
      ]
    },
    {
      "cell_type": "raw",
      "metadata": {
        "id": "8zJ-VqTLzCFX"
      },
      "source": [
        "    Uso:\n",
        "        texto = 'lira@gmail.com'\n",
        "        print(texto.endswith('gmail.com'))\n",
        "    Resultado:\n",
        "        True"
      ]
    },
    {
      "cell_type": "markdown",
      "metadata": {
        "id": "_R4G-0UqzCFY"
      },
      "source": [
        "- find() -> Procura um texto dentro de outro texto e dá como resposta a posição do texto encontrado"
      ]
    },
    {
      "cell_type": "raw",
      "metadata": {
        "id": "EP_638DwzCFY"
      },
      "source": [
        "    Uso:\n",
        "        texto = 'lira@gmail.com'\n",
        "        print(texto.find('@'))\n",
        "    Resultado:\n",
        "        4\n",
        "    Obs: lembrando como funciona a posição nas strings, então o @ está na posição 4\n",
        "    l i r a @ g m a i l  .  c  o  m\n",
        "    0 1 2 3 4 5 6 7 8 9 10 11 12 13"
      ]
    },
    {
      "cell_type": "markdown",
      "metadata": {
        "id": "VUSLb_uYzCFZ"
      },
      "source": [
        "- format() -> Formata uma string de acordo com os valores passados. Já usamos bastante ao longo do programa."
      ]
    },
    {
      "cell_type": "raw",
      "metadata": {
        "id": "sy1Yi0JozCFa"
      },
      "source": [
        "    Uso:\n",
        "        faturamento = 1000\n",
        "        print('O faturamento da loja foi de {} reais'.format(faturamento))\n",
        "    Resultado:\n",
        "        'O faturamento da loja foi de 1000 reais'"
      ]
    },
    {
      "cell_type": "markdown",
      "metadata": {
        "id": "I0tJK7wszCFa"
      },
      "source": [
        "- isalnum() -> Verifica se um texto é todo feito com caracteres alfanuméricos (letras e números) -> letras com acento ou ç são considerados letras para essa função."
      ]
    },
    {
      "cell_type": "raw",
      "metadata": {
        "id": "hJ20vlVIzCFb"
      },
      "source": [
        "    Uso:\n",
        "        texto = 'João123'\n",
        "        print(texto.isalnum())\n",
        "    Resultado:\n",
        "        True\n",
        "    Obs: se o texto fosse 'Jo~ao' ou então 'Joao#' o resultado seria False "
      ]
    },
    {
      "cell_type": "markdown",
      "metadata": {
        "id": "qfPoXHDrzCFb"
      },
      "source": [
        "- isalpha() -> Verifica se um texto é todo feito de letras."
      ]
    },
    {
      "cell_type": "raw",
      "metadata": {
        "id": "7kVMOuKVzCFc"
      },
      "source": [
        "    Uso:\n",
        "        texto = 'João'\n",
        "        print(texto.isalpha())\n",
        "    Resultado:\n",
        "        True\n",
        "    Obs: nesse caso se o texto fosse 'Joao123' o resultado seria False, porque 123 não são letras."
      ]
    },
    {
      "cell_type": "markdown",
      "metadata": {
        "id": "YaZ5FiLAzCFc"
      },
      "source": [
        "- isnumeric()\t-> Verifica se um texto é todo feito por números."
      ]
    },
    {
      "cell_type": "raw",
      "metadata": {
        "id": "lDYBGE5XzCFd"
      },
      "source": [
        "    Uso:\n",
        "        texto = '123'\n",
        "        print(texto.isnumeric())\n",
        "    Resultado:\n",
        "        True\n",
        "    Obs: existem os métodos isdigit() e isdecimal() que tem variações pontuais em caracteres especiais tipo textos com frações e potências, mas para 99% dos casos eles não vão ser necessários."
      ]
    },
    {
      "cell_type": "markdown",
      "metadata": {
        "id": "N0vJpRA6zCFd"
      },
      "source": [
        "- replace() -> Substitui um texto por um outro texto em uma string."
      ]
    },
    {
      "cell_type": "raw",
      "metadata": {
        "id": "ToCYsIOnzCFe"
      },
      "source": [
        "    Uso:\n",
        "        texto = '1000.00'\n",
        "        print(texto.replace('.', ','))\n",
        "    Resultado\n",
        "        '1000,00'\n",
        "    Obs: o replace precisa de 2 argumentos para funcionar. O 1º é o texto que você quer trocar. O 2º é o texto que você quer colocar no lugar daquele texto que você está tirando."
      ]
    },
    {
      "cell_type": "markdown",
      "metadata": {
        "id": "8BytXVhVzCFe"
      },
      "source": [
        "- split()\t-> Separa uma string de acordo com um delimitador em vários textos diferentes."
      ]
    },
    {
      "cell_type": "raw",
      "metadata": {
        "id": "rEtrnojyzCFe"
      },
      "source": [
        "    Uso:\n",
        "        texto = 'lira@gmail.com'\n",
        "        print(texto.split('@'))\n",
        "    Resultado:\n",
        "        ['lira', 'gmail.com']\n"
      ]
    },
    {
      "cell_type": "markdown",
      "metadata": {
        "id": "SFvvSS6GzCFf"
      },
      "source": [
        "- splitlines() -> separa um texto em vários textos de acordo com os \"enters\" do texto"
      ]
    },
    {
      "cell_type": "raw",
      "metadata": {
        "id": "mJnK5Gz2zCFf"
      },
      "source": [
        "    Uso:\n",
        "        texto = '''Olá, bom dia\n",
        "        Venho por meio desse e-mail lhe informar o faturamento da loja no dia de hoje.\n",
        "        Faturamento = R$2.500,00\n",
        "        '''\n",
        "        print(texto.splitlines())\n",
        "    Resultado:\n",
        "        ['Olá, bom dia', 'Venho por meio desse e-mail lhe informar o faturamento da loja no dia de hoje.', 'Faturamento = R$2.500,00']"
      ]
    },
    {
      "cell_type": "markdown",
      "metadata": {
        "id": "5iEDxrY9zCFf"
      },
      "source": [
        "- startswith() -> Verifica se a string começa com determinado texto"
      ]
    },
    {
      "cell_type": "raw",
      "metadata": {
        "id": "6VUFdA4VzCFg"
      },
      "source": [
        "    Uso:\n",
        "        texto = 'BEB123453'\n",
        "        print(texto.startswith('BEB'))\n",
        "    Resultado:\n",
        "        True"
      ]
    },
    {
      "cell_type": "markdown",
      "metadata": {
        "id": "2o0DBbxdzCFg"
      },
      "source": [
        "- strip()\t-> Retira caracteres indesejados dos textos. Por padrão, retira espaços \"extras\" no início e no final"
      ]
    },
    {
      "cell_type": "raw",
      "metadata": {
        "id": "QHqJxRdYzCFg"
      },
      "source": [
        "    Uso:\n",
        "        texto = ' BEB123453 '\n",
        "        print(texto.strip())\n",
        "    Resultado:\n",
        "        'BEB123453'"
      ]
    },
    {
      "cell_type": "markdown",
      "metadata": {
        "id": "cDY2z9iyzCFh"
      },
      "source": [
        "- title() -> Coloca a 1ª letra de cada palavra em maiúscula"
      ]
    },
    {
      "cell_type": "raw",
      "metadata": {
        "id": "zqcltELPzCFh"
      },
      "source": [
        "    Uso:\n",
        "        texto = 'joão paulo lira'\n",
        "        print(texto.title())\n",
        "    Resultado:\n",
        "        'João Paulo Lira'"
      ]
    },
    {
      "cell_type": "markdown",
      "metadata": {
        "id": "dc7A-bUOzCFh"
      },
      "source": [
        "- upper()\t-> Coloca o texto todo em letra maiúscula"
      ]
    },
    {
      "cell_type": "raw",
      "metadata": {
        "id": "nuCVr45pzCFi"
      },
      "source": [
        "    Uso:\n",
        "        texto = 'beb12343'\n",
        "        print(texto.upper())\n",
        "    Resultado:\n",
        "        'BEB12343'"
      ]
    }
  ],
  "metadata": {
    "kernelspec": {
      "display_name": "Python 3",
      "language": "python",
      "name": "python3"
    },
    "language_info": {
      "codemirror_mode": {
        "name": "ipython",
        "version": 3
      },
      "file_extension": ".py",
      "mimetype": "text/x-python",
      "name": "python",
      "nbconvert_exporter": "python",
      "pygments_lexer": "ipython3",
      "version": "3.8.3"
    },
    "colab": {
      "name": "Cópia de Cartilha Métodos de String.ipynb",
      "provenance": [],
      "include_colab_link": true
    }
  },
  "nbformat": 4,
  "nbformat_minor": 0
}