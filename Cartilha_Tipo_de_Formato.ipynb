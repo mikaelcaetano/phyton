{
  "cells": [
    {
      "cell_type": "markdown",
      "metadata": {
        "id": "view-in-github",
        "colab_type": "text"
      },
      "source": [
        "<a href=\"https://colab.research.google.com/github/mikaelcaetano/phyton/blob/main/Cartilha_Tipo_de_Formato.ipynb\" target=\"_parent\"><img src=\"https://colab.research.google.com/assets/colab-badge.svg\" alt=\"Open In Colab\"/></a>"
      ]
    },
    {
      "cell_type": "markdown",
      "metadata": {
        "id": "6QraTWG891uh"
      },
      "source": [
        "# Format - Aula de Consulta\n",
        "\n",
        "### Como usar o format para criar formatações personalizadas em prints e textos."
      ]
    },
    {
      "cell_type": "raw",
      "metadata": {
        "id": "mnA0PdLl91uq"
      },
      "source": [
        ":<\t\tAlinha o texto à esquerda (se tiver espaço na tela para isso)\n",
        ":>\t\tAlinha o texto à direita (se tiver espaço na tela para isso)\n",
        ":^\t\tAlinha o texto ao centro (se tiver espaço na tela para isso)\n",
        ":+\t\tColoca o sinal sempre na frente do número (independente se é positivo ou negativo)\n",
        ":,\t\tColoca a vírgula como separador de milhar\n",
        ":_\t\tColoca o _ como separador de milhar\n",
        ":e\t\tFormato Científico\n",
        ":f\t\tNúmero com quantidade fixa de casas decimais\n",
        ":x\t\tFormato HEX minúscula (para cores)\n",
        ":X\t\tFormato HEX maiúscula (para cores)\n",
        ":%\t\tFormato Percentual"
      ]
    },
    {
      "cell_type": "markdown",
      "metadata": {
        "id": "sa35a7qg91ur"
      },
      "source": [
        "- Exemplo de Alinhamento"
      ]
    },
    {
      "cell_type": "code",
      "execution_count": null,
      "metadata": {
        "id": "y91zl9vs91ut",
        "outputId": "46c23e8b-5a27-4094-8bf5-a0fdc60dc16d"
      },
      "outputs": [
        {
          "name": "stdout",
          "output_type": "stream",
          "text": [
            "Meu e-mail não é                   lira@gmail.com                  , show?\n"
          ]
        }
      ],
      "source": [
        "email = 'lira@gmail.com'\n",
        "print('Meu e-mail não é {:^50}, show?'.format(email))"
      ]
    },
    {
      "cell_type": "markdown",
      "metadata": {
        "id": "Mz2B-CUT91uv"
      },
      "source": [
        "- Exemplo de Edição de Sinal"
      ]
    },
    {
      "cell_type": "code",
      "execution_count": null,
      "metadata": {
        "id": "fP3J8rRS91uw",
        "outputId": "2a2484bd-a7d3-4c50-e3a7-bc9de7187b1c"
      },
      "outputs": [
        {
          "name": "stdout",
          "output_type": "stream",
          "text": [
            "Faturamento foi +270 e lucro foi -230\n"
          ]
        }
      ],
      "source": [
        "custo = 500\n",
        "faturamento = 270\n",
        "lucro = faturamento - custo\n",
        "print('Faturamento foi {:+} e lucro foi {:+}'.format(faturamento, lucro))"
      ]
    },
    {
      "cell_type": "markdown",
      "metadata": {
        "id": "7xfxVKpT91ux"
      },
      "source": [
        "- Exemplo de Separador de Milhar"
      ]
    },
    {
      "cell_type": "code",
      "execution_count": null,
      "metadata": {
        "id": "nXhb8GLS91uy",
        "outputId": "f0892926-970e-4451-dfd4-2e28e472b27c"
      },
      "outputs": [
        {
          "name": "stdout",
          "output_type": "stream",
          "text": [
            "Faturamento foi +2,700 e lucro foi -2,300\n"
          ]
        }
      ],
      "source": [
        "custo = 5000\n",
        "faturamento = 2700\n",
        "lucro = faturamento - custo\n",
        "print('Faturamento foi {:+,} e lucro foi {:+,}'.format(faturamento, lucro))"
      ]
    },
    {
      "cell_type": "markdown",
      "metadata": {
        "id": "DOBelcMX91uz"
      },
      "source": [
        "- Formato com casas Decimais fixas"
      ]
    },
    {
      "cell_type": "code",
      "execution_count": null,
      "metadata": {
        "id": "KMtcVRco91u0",
        "outputId": "d0bf6a6d-2d11-4fd4-8142-a78459e487d0"
      },
      "outputs": [
        {
          "name": "stdout",
          "output_type": "stream",
          "text": [
            "Faturamento foi 270.00 e lucro foi -230.0\n"
          ]
        }
      ],
      "source": [
        "custo = 500\n",
        "faturamento = 270\n",
        "lucro = faturamento - custo\n",
        "print('Faturamento foi {:.2f} e lucro foi {:.1f}'.format(faturamento, lucro))"
      ]
    },
    {
      "cell_type": "markdown",
      "metadata": {
        "id": "wVF9ESem91u0"
      },
      "source": [
        "- Formato Percentual"
      ]
    },
    {
      "cell_type": "code",
      "execution_count": null,
      "metadata": {
        "id": "Ei6xJ4tk91u1",
        "outputId": "4b6c3a02-1f9b-4902-8bfb-eb94caf1bb0c"
      },
      "outputs": [
        {
          "name": "stdout",
          "output_type": "stream",
          "text": [
            "Margem de lucro foi de 61.54%\n"
          ]
        }
      ],
      "source": [
        "custo = 500\n",
        "faturamento = 1300\n",
        "lucro = faturamento - custo\n",
        "margem = lucro / faturamento\n",
        "print('Margem de lucro foi de {:.2%}'.format(margem))"
      ]
    },
    {
      "cell_type": "markdown",
      "metadata": {
        "id": "GnGQZ-tS91u1"
      },
      "source": [
        "- Formato Moeda -> Combinação de Formatos\n",
        "\n",
        "Existem módulos/bibliotecas que vão facilitar isso, caso a gente queira, mas vamos ver como usar módulos mais a frente do curso. Por enquanto, se você precisar, pode fazer substituições em string"
      ]
    },
    {
      "cell_type": "code",
      "execution_count": null,
      "metadata": {
        "id": "WXQizJMv91u2",
        "outputId": "f6b6c4b2-208d-4339-f406-2831efeb02de"
      },
      "outputs": [
        {
          "name": "stdout",
          "output_type": "stream",
          "text": [
            "Faturamento foi R$27,000.00 e lucro foi R$22,000.00\n",
            "R$22.000,00\n"
          ]
        }
      ],
      "source": [
        "custo = 5000\n",
        "faturamento = 27000\n",
        "lucro = faturamento - custo\n",
        "print('Faturamento foi R${:,.2f} e lucro foi R${:,.2f}'.format(faturamento, lucro))\n",
        "\n",
        "#transformando no formato brasileiro\n",
        "lucro_texto = 'R${:_.2f}'.format(lucro)\n",
        "print(lucro_texto.replace('.', ',').replace('_', '.'))"
      ]
    },
    {
      "cell_type": "markdown",
      "metadata": {
        "id": "wx1HaoV-91u3"
      },
      "source": [
        "- Função round() para arredondar números, caso seja necessário"
      ]
    },
    {
      "cell_type": "code",
      "execution_count": null,
      "metadata": {
        "id": "WHbBeQWk91u3",
        "outputId": "15f48b67-e6a2-43ec-b3ab-6e89ab33e751"
      },
      "outputs": [
        {
          "name": "stdout",
          "output_type": "stream",
          "text": [
            "Imposto sobre o preço é de 15.8\n"
          ]
        }
      ],
      "source": [
        "imposto = 0.15758\n",
        "preco = 100\n",
        "valor_imposto = round(preco * imposto, 1)\n",
        "print('Imposto sobre o preço é de {}'.format(valor_imposto))"
      ]
    }
  ],
  "metadata": {
    "kernelspec": {
      "display_name": "Python 3",
      "language": "python",
      "name": "python3"
    },
    "language_info": {
      "codemirror_mode": {
        "name": "ipython",
        "version": 3
      },
      "file_extension": ".py",
      "mimetype": "text/x-python",
      "name": "python",
      "nbconvert_exporter": "python",
      "pygments_lexer": "ipython3",
      "version": "3.8.3"
    },
    "colab": {
      "name": "Cartilha Tipo de Formato.ipynb",
      "provenance": [],
      "include_colab_link": true
    }
  },
  "nbformat": 4,
  "nbformat_minor": 0
}