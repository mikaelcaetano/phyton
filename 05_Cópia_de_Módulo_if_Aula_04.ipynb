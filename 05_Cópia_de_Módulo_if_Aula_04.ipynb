{
  "cells": [
    {
      "cell_type": "markdown",
      "metadata": {
        "id": "view-in-github",
        "colab_type": "text"
      },
      "source": [
        "<a href=\"https://colab.research.google.com/github/mikaelcaetano/phyton/blob/main/05_C%C3%B3pia_de_M%C3%B3dulo_if_Aula_04.ipynb\" target=\"_parent\"><img src=\"https://colab.research.google.com/assets/colab-badge.svg\" alt=\"Open In Colab\"/></a>"
      ]
    },
    {
      "cell_type": "markdown",
      "metadata": {
        "id": "YN35xremLurN"
      },
      "source": [
        "# Comparadores"
      ]
    },
    {
      "cell_type": "raw",
      "metadata": {
        "id": "fcirzsWdLurT"
      },
      "source": [
        "==    igual\n",
        "!=    diferente\n",
        ">     maior que (>= maior ou igual)\n",
        "<     menor que (<= menor ou igual)\n",
        "in    texto existe dentro de outro texto \n",
        "not   verifica o contrário da comparação\n",
        "\n",
        "Obs: Se em alguma condição você não quiser fazer nada, você pode simplesmente escrever:\n",
        "pass"
      ]
    },
    {
      "cell_type": "code",
      "execution_count": null,
      "metadata": {
        "id": "OBRG7H9ULurV"
      },
      "outputs": [],
      "source": [
        "faturamento_loja_1 = 2500\n",
        "faturamento_loja_2 = 2200\n",
        "email = \"liragmail.com\"\n",
        "\n",
        "print('Programa 1')\n",
        "if faturamento_loja_1 == faturamento_loja_2:\n",
        "    print('Os faturamentos são iguais')\n",
        "else:\n",
        "    print('Os faturamentos são diferentes')\n"
      ]
    },
    {
      "cell_type": "code",
      "execution_count": null,
      "metadata": {
        "id": "-7ONfC1WLurY"
      },
      "outputs": [],
      "source": [
        "print('Programa 2')\n",
        "if email != 'lira@gmail.com':\n",
        "    print('Esse não é o email do Lira')\n",
        "else:\n",
        "    print('Email errado')"
      ]
    },
    {
      "cell_type": "code",
      "execution_count": null,
      "metadata": {
        "id": "QHex3W-ELurY"
      },
      "outputs": [],
      "source": [
        "print('Programa 3')\n",
        "email_usuario = input('Insira seu e-mail:')\n",
        "if not '@' in email_usuario:\n",
        "    print('Email Inválido')\n",
        "else:\n",
        "    pass"
      ]
    }
  ],
  "metadata": {
    "kernelspec": {
      "display_name": "Python 3",
      "language": "python",
      "name": "python3"
    },
    "language_info": {
      "codemirror_mode": {
        "name": "ipython",
        "version": 3
      },
      "file_extension": ".py",
      "mimetype": "text/x-python",
      "name": "python",
      "nbconvert_exporter": "python",
      "pygments_lexer": "ipython3",
      "version": "3.8.3"
    },
    "colab": {
      "name": "05 - Cópia de Módulo if - Aula 04.ipynb",
      "provenance": [],
      "include_colab_link": true
    }
  },
  "nbformat": 4,
  "nbformat_minor": 0
}