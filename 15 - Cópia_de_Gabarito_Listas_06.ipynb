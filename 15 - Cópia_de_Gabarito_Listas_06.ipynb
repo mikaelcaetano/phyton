{
  "cells": [
    {
      "cell_type": "markdown",
      "metadata": {
        "id": "view-in-github",
        "colab_type": "text"
      },
      "source": [
        "<a href=\"https://colab.research.google.com/github/mikaelcaetano/phyton/blob/main/15%20-%20C%C3%B3pia_de_Gabarito_Listas_06.ipynb\" target=\"_parent\"><img src=\"https://colab.research.google.com/assets/colab-badge.svg\" alt=\"Open In Colab\"/></a>"
      ]
    },
    {
      "cell_type": "markdown",
      "metadata": {
        "id": "_uvC_rJURDpe"
      },
      "source": [
        "# Juntar Listas, Ordenar e Cuidados Especiais\n",
        "\n",
        "### 2 formas:\n",
        "\n",
        "- lista1.extend(lista2)\n",
        "- lista_nova = lista1 + lista2\n",
        "\n",
        "Obs: o Método .append não junta listas, mas adiciona um valor no final da lista"
      ]
    },
    {
      "cell_type": "code",
      "execution_count": null,
      "metadata": {
        "id": "vk3hx_DURDpn",
        "outputId": "0099e78a-5a37-4b81-d1eb-4516a917a5b2"
      },
      "outputs": [
        {
          "name": "stdout",
          "output_type": "stream",
          "text": [
            "['apple tv', 'mac', 'iphone x', 'iphone 11', 'IPad', 'apple watch', 'mac book', 'airpods', 'iphone 12', 'ioculos']\n"
          ]
        }
      ],
      "source": [
        "produtos = ['apple tv', 'mac', 'iphone x', 'iphone 11', 'IPad', 'apple watch', 'mac book', 'airpods']\n",
        "novos_produtos = ['iphone 12', 'ioculos']\n",
        "\n",
        "todos_produtos = produtos + novos_produtos\n",
        "print(todos_produtos)"
      ]
    },
    {
      "cell_type": "markdown",
      "metadata": {
        "id": "o4_qO8KERDpq"
      },
      "source": [
        "### Cuidado:\n",
        "\n",
        "- [1] + [2] não é a mesma coisa que 1 + 2, então cuidado sempre com o formato dos valores na hora de fazer operações."
      ]
    },
    {
      "cell_type": "code",
      "execution_count": null,
      "metadata": {
        "id": "4u5pJNx1RDpr",
        "outputId": "9e5e5e83-3f41-4393-8490-a9c6a3704634"
      },
      "outputs": [
        {
          "name": "stdout",
          "output_type": "stream",
          "text": [
            "35000\n",
            "35000\n"
          ]
        }
      ],
      "source": [
        "vendas = [1000, 1500, 15000, 20000, 270, 900, 100, 1200]\n",
        "vendas_iphonex = [15000]\n",
        "vendas_iphone11 = [20000]\n",
        "\n",
        "total_iphone = vendas[2] + vendas[3]\n",
        "total_iphone_listas = vendas_iphonex[0] + vendas_iphone11[0]\n",
        "print(total_iphone)\n",
        "print(total_iphone_listas)"
      ]
    },
    {
      "cell_type": "markdown",
      "metadata": {
        "id": "Q40OXLYKRDps"
      },
      "source": [
        "### Ordenar listas\n",
        "\n",
        "lista.sort()"
      ]
    },
    {
      "cell_type": "code",
      "execution_count": null,
      "metadata": {
        "id": "3EJzIgxNRDps",
        "outputId": "60f10e31-d765-43eb-d71e-ec7dbc9eb843"
      },
      "outputs": [
        {
          "name": "stdout",
          "output_type": "stream",
          "text": [
            "[100, 270, 900, 1000, 1200, 1500, 15000, 20000]\n"
          ]
        }
      ],
      "source": [
        "vendas.sort(reverse=False)\n",
        "print(vendas)"
      ]
    }
  ],
  "metadata": {
    "kernelspec": {
      "display_name": "Python 3",
      "language": "python",
      "name": "python3"
    },
    "language_info": {
      "codemirror_mode": {
        "name": "ipython",
        "version": 3
      },
      "file_extension": ".py",
      "mimetype": "text/x-python",
      "name": "python",
      "nbconvert_exporter": "python",
      "pygments_lexer": "ipython3",
      "version": "3.8.3"
    },
    "colab": {
      "name": "Cópia de Gabarito - Listas 06.ipynb",
      "provenance": [],
      "include_colab_link": true
    }
  },
  "nbformat": 4,
  "nbformat_minor": 0
}